{
  "nbformat": 4,
  "nbformat_minor": 0,
  "metadata": {
    "colab": {
      "provenance": []
    },
    "kernelspec": {
      "name": "python3",
      "display_name": "Python 3"
    },
    "language_info": {
      "name": "python"
    }
  },
  "cells": [
    {
      "cell_type": "code",
      "source": [
        "# Ans no 1:-\n",
        "import datetime\n",
        "from datetime import date\n",
        "now = date.today()\n",
        "cur_date = now.isoformat()\n",
        "cur_date"
      ],
      "metadata": {
        "colab": {
          "base_uri": "https://localhost:8080/",
          "height": 35
        },
        "id": "nJKghlW0qKAd",
        "outputId": "f13248b3-b368-4c03-956f-caca6aa78c0e"
      },
      "execution_count": 6,
      "outputs": [
        {
          "output_type": "execute_result",
          "data": {
            "text/plain": [
              "'2023-06-27'"
            ],
            "application/vnd.google.colaboratory.intrinsic+json": {
              "type": "string"
            }
          },
          "metadata": {},
          "execution_count": 6
        }
      ]
    },
    {
      "cell_type": "code",
      "source": [
        "with open('today.txt','w') as file:\n",
        "    file.write(cur_date)"
      ],
      "metadata": {
        "id": "lu-Jhxh1s635"
      },
      "execution_count": 7,
      "outputs": []
    },
    {
      "cell_type": "code",
      "source": [
        "# Ans no 2:-\n",
        "with open('today.txt','r') as file:\n",
        "    today_string = file.read()\n",
        "today_string"
      ],
      "metadata": {
        "colab": {
          "base_uri": "https://localhost:8080/",
          "height": 35
        },
        "id": "pZDQUnHSsN3P",
        "outputId": "ba26a02e-2e13-42fb-9bde-0e694c5b19a5"
      },
      "execution_count": 8,
      "outputs": [
        {
          "output_type": "execute_result",
          "data": {
            "text/plain": [
              "'2023-06-27'"
            ],
            "application/vnd.google.colaboratory.intrinsic+json": {
              "type": "string"
            }
          },
          "metadata": {},
          "execution_count": 8
        }
      ]
    },
    {
      "cell_type": "code",
      "source": [
        "# Ans no 3:-\n",
        "from datetime import datetime\n",
        "format = '%Y-%m-%d'\n",
        "datetime.strptime(today_string,format)\n",
        ""
      ],
      "metadata": {
        "colab": {
          "base_uri": "https://localhost:8080/"
        },
        "id": "B0fTHOhQtJd-",
        "outputId": "5206ad9b-35c7-4151-cf05-37a7adf6a1a8"
      },
      "execution_count": 9,
      "outputs": [
        {
          "output_type": "execute_result",
          "data": {
            "text/plain": [
              "datetime.datetime(2023, 6, 27, 0, 0)"
            ]
          },
          "metadata": {},
          "execution_count": 9
        }
      ]
    },
    {
      "cell_type": "code",
      "source": [
        "# Ans no 4:-\n",
        "import os\n",
        "os.listdir('.')"
      ],
      "metadata": {
        "colab": {
          "base_uri": "https://localhost:8080/"
        },
        "id": "KAdnY3WvuJ1c",
        "outputId": "fb29b7a7-427e-4695-abc8-dbacd2d2b12a"
      },
      "execution_count": 10,
      "outputs": [
        {
          "output_type": "execute_result",
          "data": {
            "text/plain": [
              "['.config', 'today.txt', 'sample_data']"
            ]
          },
          "metadata": {},
          "execution_count": 10
        }
      ]
    },
    {
      "cell_type": "code",
      "source": [
        "# Ans no 5:-\n",
        "os.listdir('..')"
      ],
      "metadata": {
        "colab": {
          "base_uri": "https://localhost:8080/"
        },
        "id": "mCJbq6IwuU-U",
        "outputId": "f4197dce-de6f-4e7c-adb2-428ee8e7d81d"
      },
      "execution_count": 11,
      "outputs": [
        {
          "output_type": "execute_result",
          "data": {
            "text/plain": [
              "['root',\n",
              " 'lib64',\n",
              " 'var',\n",
              " 'lib',\n",
              " 'srv',\n",
              " 'run',\n",
              " 'sys',\n",
              " 'lib32',\n",
              " 'sbin',\n",
              " 'boot',\n",
              " 'usr',\n",
              " 'dev',\n",
              " 'proc',\n",
              " 'opt',\n",
              " 'mnt',\n",
              " 'media',\n",
              " 'bin',\n",
              " 'libx32',\n",
              " 'home',\n",
              " 'tmp',\n",
              " 'etc',\n",
              " 'content',\n",
              " '.dockerenv',\n",
              " 'datalab',\n",
              " 'tools',\n",
              " 'python-apt',\n",
              " 'NGC-DL-CONTAINER-LICENSE']"
            ]
          },
          "metadata": {},
          "execution_count": 11
        }
      ]
    },
    {
      "cell_type": "code",
      "source": [
        "# Ans no 6:-\n",
        "import multiprocessing\n",
        "import random\n",
        "import time\n",
        "from datetime import datetime\n",
        "\n",
        "def process_function():\n",
        "    wait_time = random.randint(1, 5)\n",
        "    time.sleep(wait_time)\n",
        "    current_time = datetime.now().strftime(\"%Y-%m-%d %H:%M:%S\")\n",
        "    print(f\"Process ID: {multiprocessing.current_process().pid}, Current Time: {current_time}\")\n",
        "\n",
        "if __name__ == \"__main__\":\n",
        "    processes = []\n",
        "\n",
        "    for _ in range(3):\n",
        "        process = multiprocessing.Process(target=process_function)\n",
        "        processes.append(process)\n",
        "        process.start()\n",
        "\n",
        "    for process in processes:\n",
        "        process.join()"
      ],
      "metadata": {
        "colab": {
          "base_uri": "https://localhost:8080/"
        },
        "id": "8_aQMd2qx24G",
        "outputId": "9e18af76-47f9-44bb-d90e-47cd404c755e"
      },
      "execution_count": 14,
      "outputs": [
        {
          "output_type": "stream",
          "name": "stdout",
          "text": [
            "Process ID: 8344, Current Time: 2023-06-27 12:15:13\n",
            "Process ID: 8343, Current Time: 2023-06-27 12:15:14\n",
            "Process ID: 8342, Current Time: 2023-06-27 12:15:16\n"
          ]
        }
      ]
    },
    {
      "cell_type": "code",
      "source": [
        "# Ans no 7:-\n",
        "my_dob = date(1998,7,11)\n",
        "my_dob\n",
        ""
      ],
      "metadata": {
        "colab": {
          "base_uri": "https://localhost:8080/"
        },
        "id": "xzjA2Pmsx3rN",
        "outputId": "a3e56b7c-a673-4a3f-d625-c4f8f08604a8"
      },
      "execution_count": 20,
      "outputs": [
        {
          "output_type": "execute_result",
          "data": {
            "text/plain": [
              "datetime.date(1998, 7, 11)"
            ]
          },
          "metadata": {},
          "execution_count": 20
        }
      ]
    },
    {
      "cell_type": "code",
      "source": [
        "# Ans no 8:-\n",
        "my_dob.weekday()\n",
        "# that was friday"
      ],
      "metadata": {
        "colab": {
          "base_uri": "https://localhost:8080/"
        },
        "id": "xmJ8zvs4ybMr",
        "outputId": "be667c3e-fb53-40ee-c59c-20db46b96dc0"
      },
      "execution_count": 19,
      "outputs": [
        {
          "output_type": "execute_result",
          "data": {
            "text/plain": [
              "5"
            ]
          },
          "metadata": {},
          "execution_count": 19
        }
      ]
    },
    {
      "cell_type": "code",
      "source": [
        "# Ans no 9:-\n",
        "from datetime import timedelta\n",
        "day10000 = my_dob + timedelta(days=10000)\n",
        "day10000"
      ],
      "metadata": {
        "colab": {
          "base_uri": "https://localhost:8080/"
        },
        "id": "2o5gaDOZyxBr",
        "outputId": "4deda6ff-be65-4898-f37b-8aafa97de145"
      },
      "execution_count": 21,
      "outputs": [
        {
          "output_type": "execute_result",
          "data": {
            "text/plain": [
              "datetime.date(2025, 11, 26)"
            ]
          },
          "metadata": {},
          "execution_count": 21
        }
      ]
    },
    {
      "cell_type": "code",
      "source": [],
      "metadata": {
        "id": "bREkY0Pqz2UU"
      },
      "execution_count": null,
      "outputs": []
    }
  ]
}