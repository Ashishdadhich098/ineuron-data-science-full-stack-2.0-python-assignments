{
  "nbformat": 4,
  "nbformat_minor": 0,
  "metadata": {
    "colab": {
      "provenance": []
    },
    "kernelspec": {
      "name": "python3",
      "display_name": "Python 3"
    },
    "language_info": {
      "name": "python"
    }
  },
  "cells": [
    {
      "cell_type": "code",
      "execution_count": 1,
      "metadata": {
        "colab": {
          "base_uri": "https://localhost:8080/"
        },
        "id": "vARl7-Fi1tbS",
        "outputId": "859698fd-9bcb-496a-d7d4-d4512cd43ef3"
      },
      "outputs": [
        {
          "output_type": "stream",
          "name": "stdout",
          "text": [
            "<class '__main__.Thing'>\n"
          ]
        }
      ],
      "source": [
        "# Ans no 1:-\n",
        "class Thing:\n",
        "    pass\n",
        "print(Thing)"
      ]
    },
    {
      "cell_type": "code",
      "source": [
        "example = Thing()\n",
        "print(example)"
      ],
      "metadata": {
        "colab": {
          "base_uri": "https://localhost:8080/"
        },
        "id": "Q360YxZla8W8",
        "outputId": "815a644c-fb28-40a4-936e-10b10bfaf5c5"
      },
      "execution_count": 2,
      "outputs": [
        {
          "output_type": "stream",
          "name": "stdout",
          "text": [
            "<__main__.Thing object at 0x7f4655f8cfa0>\n"
          ]
        }
      ]
    },
    {
      "cell_type": "code",
      "source": [
        "# Ans no 2:-\n",
        "class thing2:\n",
        "  latters = 'abc'\n",
        "thing2.latters\n"
      ],
      "metadata": {
        "colab": {
          "base_uri": "https://localhost:8080/",
          "height": 35
        },
        "id": "DaS10b6RbKmm",
        "outputId": "88d72c82-c165-432f-bba4-d0f425312a70"
      },
      "execution_count": 8,
      "outputs": [
        {
          "output_type": "execute_result",
          "data": {
            "text/plain": [
              "'abc'"
            ],
            "application/vnd.google.colaboratory.intrinsic+json": {
              "type": "string"
            }
          },
          "metadata": {},
          "execution_count": 8
        }
      ]
    },
    {
      "cell_type": "code",
      "source": [
        "# Ans no 3:_\n",
        "class Thing3:\n",
        "  def __init__(self,letter):\n",
        "      self.letter = letter\n",
        "  def letters(self):\n",
        "      print(self.letter)\n",
        "Thing3('xyz').letters()"
      ],
      "metadata": {
        "colab": {
          "base_uri": "https://localhost:8080/"
        },
        "id": "YZCm04wFbsQV",
        "outputId": "346531a1-5975-4dce-f0bd-3d6ad778d04e"
      },
      "execution_count": 9,
      "outputs": [
        {
          "output_type": "stream",
          "name": "stdout",
          "text": [
            "xyz\n"
          ]
        }
      ]
    },
    {
      "cell_type": "code",
      "source": [
        "# Ans no 4:-\n",
        "class Element:\n",
        "    def __init__(self,name,symbol,number):\n",
        "        self.name = name\n",
        "        self.symbol = symbol\n",
        "        self.number = number\n",
        "    def printThem(self):\n",
        "        print(self.name,self.symbol,self.number)\n",
        "obj = Element('Hydrogen','H',1)\n",
        "obj.name"
      ],
      "metadata": {
        "colab": {
          "base_uri": "https://localhost:8080/",
          "height": 35
        },
        "id": "g7FP4t08dNB7",
        "outputId": "b3b46ad5-ccb0-461e-bce6-ec7e87f9d1a1"
      },
      "execution_count": 22,
      "outputs": [
        {
          "output_type": "execute_result",
          "data": {
            "text/plain": [
              "'Hydrogen'"
            ],
            "application/vnd.google.colaboratory.intrinsic+json": {
              "type": "string"
            }
          },
          "metadata": {},
          "execution_count": 22
        }
      ]
    },
    {
      "cell_type": "code",
      "source": [
        "# Ans no 5:-\n",
        "class Element:\n",
        "    def __init__(self, element_dict):\n",
        "        self.name = element_dict['name']\n",
        "        self.symbol = element_dict['symbol']\n",
        "        self.number = element_dict['number']\n",
        "\n",
        "# Creating the dictionary\n",
        "element_dict = {'name': 'Hydrogen', 'symbol': 'H', 'number': 1}\n",
        "\n",
        "# Creating the object hydrogen from the Element class using the dictionary\n",
        "hydrogen = Element(element_dict)\n",
        "hydrogen.name"
      ],
      "metadata": {
        "colab": {
          "base_uri": "https://localhost:8080/",
          "height": 35
        },
        "id": "Eg7xIGsRgks7",
        "outputId": "18830628-9368-4089-c973-87ba54e35513"
      },
      "execution_count": 25,
      "outputs": [
        {
          "output_type": "execute_result",
          "data": {
            "text/plain": [
              "'Hydrogen'"
            ],
            "application/vnd.google.colaboratory.intrinsic+json": {
              "type": "string"
            }
          },
          "metadata": {},
          "execution_count": 25
        }
      ]
    },
    {
      "cell_type": "code",
      "source": [
        "# Ans no 6:-\n",
        "class Element:\n",
        "    def __init__(self,name,symbol,number):\n",
        "        self.name = name\n",
        "        self.symbol = symbol\n",
        "        self.number = number\n",
        "    def dump(self):\n",
        "        print(self.name,self.symbol,self.number)\n",
        "\n",
        "\n",
        "hydrogen = Element('Hydrogen','H',1)\n",
        "hydrogen.dump()"
      ],
      "metadata": {
        "colab": {
          "base_uri": "https://localhost:8080/"
        },
        "id": "KaECsPp4lMCA",
        "outputId": "5d5d5caa-6c70-4d88-8335-a44efeaff879"
      },
      "execution_count": 27,
      "outputs": [
        {
          "output_type": "stream",
          "name": "stdout",
          "text": [
            "Hydrogen H 1\n"
          ]
        }
      ]
    },
    {
      "cell_type": "code",
      "source": [
        "# Ans no 7:-\n",
        "class Element:\n",
        "    def __init__(self,name,symbol,number):\n",
        "        self.name = name\n",
        "        self.symbol = symbol\n",
        "        self.number = number\n",
        "    def __str__(self):\n",
        "        return ('name=%s, symbol=%s, number=%s'% (self.name, self.symbol, self.number) )\n",
        "\n",
        "\n",
        "hydrogen = Element('Hydrogen','H',1)\n",
        "print(hydrogen)\n",
        ""
      ],
      "metadata": {
        "colab": {
          "base_uri": "https://localhost:8080/"
        },
        "id": "8O8gnnU9lxHe",
        "outputId": "40da70d0-1737-48f0-b764-aa3a19078f69"
      },
      "execution_count": 28,
      "outputs": [
        {
          "output_type": "stream",
          "name": "stdout",
          "text": [
            "name=Hydrogen, symbol=H, number=1\n"
          ]
        }
      ]
    },
    {
      "cell_type": "code",
      "source": [
        "# Ans no 8:-\n",
        "class Element():\n",
        "    def __init__(self ,name,symbol,number):\n",
        "        self.__name = name\n",
        "        self.__symbol = symbol\n",
        "        self.__number = number\n",
        "    @property\n",
        "    def name(self):\n",
        "        return (self.__name)\n",
        "    @property\n",
        "    def symbol(self):\n",
        "        return (self.__symbol)\n",
        "    @property\n",
        "    def number(self):\n",
        "        return (self.__number)\n",
        "\n",
        "\n",
        "hydrogen = Element('Hydrogen','H',1)\n",
        "hydrogen.name"
      ],
      "metadata": {
        "colab": {
          "base_uri": "https://localhost:8080/",
          "height": 35
        },
        "id": "dKFdjivbnlX9",
        "outputId": "513bd55a-a42d-449e-c73b-d3e7bf30ffb6"
      },
      "execution_count": 29,
      "outputs": [
        {
          "output_type": "execute_result",
          "data": {
            "text/plain": [
              "'Hydrogen'"
            ],
            "application/vnd.google.colaboratory.intrinsic+json": {
              "type": "string"
            }
          },
          "metadata": {},
          "execution_count": 29
        }
      ]
    },
    {
      "cell_type": "code",
      "source": [
        "# Ans no 9:-\n",
        "class Bear:\n",
        "    def eats():\n",
        "        print('berries')\n",
        "\n",
        "class Rabbit:\n",
        "    def eats():\n",
        "        print('clover')\n",
        "\n",
        "class Octothorpe:\n",
        "    def eats():\n",
        "        print('campers')\n",
        "\n"
      ],
      "metadata": {
        "id": "MTwdPthTpQEi"
      },
      "execution_count": 30,
      "outputs": []
    },
    {
      "cell_type": "code",
      "source": [
        "Bear.eats()"
      ],
      "metadata": {
        "colab": {
          "base_uri": "https://localhost:8080/"
        },
        "id": "lWX4S-i_pfJU",
        "outputId": "ea061070-e757-4932-abb1-e7f2b11da4b9"
      },
      "execution_count": 31,
      "outputs": [
        {
          "output_type": "stream",
          "name": "stdout",
          "text": [
            "berries\n"
          ]
        }
      ]
    },
    {
      "cell_type": "code",
      "source": [
        "Rabbit.eats()"
      ],
      "metadata": {
        "colab": {
          "base_uri": "https://localhost:8080/"
        },
        "id": "rFYCLoG8piOc",
        "outputId": "346103d4-e2ae-4f6d-ce7d-870ca45df60c"
      },
      "execution_count": 32,
      "outputs": [
        {
          "output_type": "stream",
          "name": "stdout",
          "text": [
            "clover\n"
          ]
        }
      ]
    },
    {
      "cell_type": "code",
      "source": [
        "Octothorpe.eats()\n",
        ""
      ],
      "metadata": {
        "colab": {
          "base_uri": "https://localhost:8080/"
        },
        "id": "EcbxtpnMpn0E",
        "outputId": "a4c0c7c4-f822-4fa7-a6ad-9bca5fdd0c8a"
      },
      "execution_count": 33,
      "outputs": [
        {
          "output_type": "stream",
          "name": "stdout",
          "text": [
            "campers\n"
          ]
        }
      ]
    },
    {
      "cell_type": "code",
      "source": [
        "# Ans no 10:-\n",
        "class Laser:\n",
        "    def does(self):\n",
        "        return 'disintegrate'\n",
        "\n",
        "class Claw:\n",
        "    def does(self):\n",
        "        return 'crush'\n",
        "\n",
        "class SmartPhone:\n",
        "    def does(self):\n",
        "        return 'ring'\n",
        "\n",
        "class Robot:\n",
        "    def __init__(self):\n",
        "        self.laser = Laser()\n",
        "        self.claw = Claw()\n",
        "        self.smartphone = SmartPhone()\n",
        "\n",
        "    def does(self):\n",
        "        return '''I have many attachments:\n",
        "        My laser, to %s.\n",
        "        My claw, to %s.\n",
        "        My smartphone, to %s.''' % (self.laser.does(),self.claw.does(),self.smartphone.does() )"
      ],
      "metadata": {
        "id": "N_JmAleYroRs"
      },
      "execution_count": 38,
      "outputs": []
    },
    {
      "cell_type": "code",
      "source": [
        "robbie = Robot()"
      ],
      "metadata": {
        "id": "ZbGa_a1Isa1O"
      },
      "execution_count": 39,
      "outputs": []
    },
    {
      "cell_type": "code",
      "source": [
        "print( robbie.does())"
      ],
      "metadata": {
        "colab": {
          "base_uri": "https://localhost:8080/"
        },
        "id": "fLJTd0CRseQ9",
        "outputId": "b8999630-1599-4076-9268-1e9c04781f99"
      },
      "execution_count": 40,
      "outputs": [
        {
          "output_type": "stream",
          "name": "stdout",
          "text": [
            "I have many attachments:\n",
            "        My laser, to disintegrate.\n",
            "        My claw, to crush.\n",
            "        My smartphone, to ring.\n"
          ]
        }
      ]
    }
  ]
}