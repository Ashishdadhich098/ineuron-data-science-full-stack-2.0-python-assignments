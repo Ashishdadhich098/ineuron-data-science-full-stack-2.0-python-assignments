{
  "nbformat": 4,
  "nbformat_minor": 0,
  "metadata": {
    "colab": {
      "provenance": []
    },
    "kernelspec": {
      "name": "python3",
      "display_name": "Python 3"
    },
    "language_info": {
      "name": "python"
    }
  },
  "cells": [
    {
      "cell_type": "code",
      "execution_count": null,
      "metadata": {
        "id": "3O7OnSaNLgJM"
      },
      "outputs": [],
      "source": [
        " # Ans no 1:- there are many advantages to have a function in a programme\n",
        " #            . reusablity of the code .function allow us to re use the written block of  code to avoid repetablitity of the code.\n",
        " #            . readablity of the code .function allow us to easily read a code .\n",
        " #            . reduction of the error .by using function in the programme it reduce the chances of errors.\n",
        " #            . testing and debugging  .functions encapsulate specific functionality, they can be individually tested to ensure they work correctly."
      ]
    },
    {
      "cell_type": "code",
      "source": [
        "# Ans no 2:- The code in a function executes when the function is called, not when the function is defined.\n",
        "#            when we define the function it is specified and by calling function it executes."
      ],
      "metadata": {
        "id": "lubIFAGkRkeQ"
      },
      "execution_count": null,
      "outputs": []
    },
    {
      "cell_type": "code",
      "source": [
        "# Ans no 3:- The def statement defines (that is, creates) a function."
      ],
      "metadata": {
        "id": "ti5siVspUlGO"
      },
      "execution_count": null,
      "outputs": []
    },
    {
      "cell_type": "code",
      "source": [
        "# Ans no 4:- a function is a defined block of code that performs a specific task, while a function call is the action of invoking a function to\n",
        "#             execute the code within its body. Functions are defined once and can be called multiple times, allowing for code reuse and modularity.\n",
        "#            Function calls are the means by which we can  utilize the functionality provided by the function at specific points in the program."
      ],
      "metadata": {
        "id": "rImAPMHwYgt8"
      },
      "execution_count": null,
      "outputs": []
    },
    {
      "cell_type": "code",
      "source": [
        "# Ans no 5:- There is typically one global scope in a Python program.\n",
        "#            Local scopes can be created whenever a function is called or when a block is entered ."
      ],
      "metadata": {
        "id": "djCR8CmkZN1M"
      },
      "execution_count": null,
      "outputs": []
    },
    {
      "cell_type": "code",
      "source": [
        "# Ans no 6:- When a function returns, the local scope is destroyed, and all the variables in it are forgotten ,the memory is released,\n",
        "#            and the variables become inaccessible outside of the function."
      ],
      "metadata": {
        "id": "ka3pKuZZaYeQ"
      },
      "execution_count": null,
      "outputs": []
    },
    {
      "cell_type": "code",
      "source": [
        "# Ans no 7:- A return is a value that a function returns to the calling script or function when it completes its task.\n",
        "#             The return statement is used within a function to specify the return value. However, return values cannot\n",
        "#             be used directly in expressions outside of functions."
      ],
      "metadata": {
        "id": "Jk6CSRoTc0oU"
      },
      "execution_count": null,
      "outputs": []
    },
    {
      "cell_type": "code",
      "source": [
        "# Ans no 8:-  if a function does not have a return statement, the return value of a call to that function is None."
      ],
      "metadata": {
        "id": "Trf8Zbohgneo"
      },
      "execution_count": null,
      "outputs": []
    },
    {
      "cell_type": "code",
      "source": [
        "# Ans no 9:- Normally, when we create a variable inside a function, that variable is local, and can only be used inside that function.\n",
        "#            To create a global variable inside a function, we can use the global keyword.\n",
        "#            ex- def global_var():"
      ],
      "metadata": {
        "id": "m_T1GYypyiKM"
      },
      "execution_count": null,
      "outputs": []
    },
    {
      "cell_type": "code",
      "source": [
        "# Ans no 10:- The data type of None is NoneType. it represents the absence of a value in Python."
      ],
      "metadata": {
        "id": "lIqH73-_0_Ir"
      },
      "execution_count": null,
      "outputs": []
    },
    {
      "cell_type": "code",
      "source": [
        "# Ans no 11:-  the sentence \"import areallyourpetsnamederic\" does not have any defined functionality in Python as it does not\n",
        "#              refer to a valid module or package."
      ],
      "metadata": {
        "id": "U_thYvdc1y9a"
      },
      "execution_count": null,
      "outputs": []
    },
    {
      "cell_type": "code",
      "source": [
        "# Ans no 12:- Aftter importing the spam module ,bacon() feature in a spam module This function can be called with spam.bacon()."
      ],
      "metadata": {
        "id": "LvwLzsMo2pFD"
      },
      "execution_count": null,
      "outputs": []
    },
    {
      "cell_type": "code",
      "source": [
        "# Ans no 13:-using error handling techniques such as 'try-except' blocks allows us to save a program from crashing by catching and\n",
        "#            handling exceptions that occur during program execution."
      ],
      "metadata": {
        "id": "mjrFzw3X4CiL"
      },
      "execution_count": null,
      "outputs": []
    },
    {
      "cell_type": "code",
      "source": [
        "# Ans no 14:- the purpose of the 'try' clause is to define a block of code where exceptions may occur, while the purpose of the 'except' clause\n",
        "#             is to define how to handle specific exceptions that arise within the try block. Together, try and except provide a mechanism to\n",
        "#             catch and handle exceptions."
      ],
      "metadata": {
        "id": "k1rr596A55CE"
      },
      "execution_count": null,
      "outputs": []
    }
  ]
}