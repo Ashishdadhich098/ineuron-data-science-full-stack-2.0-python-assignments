{
  "nbformat": 4,
  "nbformat_minor": 0,
  "metadata": {
    "colab": {
      "provenance": []
    },
    "kernelspec": {
      "name": "python3",
      "display_name": "Python 3"
    },
    "language_info": {
      "name": "python"
    }
  },
  "cells": [
    {
      "cell_type": "code",
      "execution_count": null,
      "metadata": {
        "id": "zAS_krBTJstO"
      },
      "outputs": [],
      "source": [
        "# Ans no 1:-A relative path refers to the location of a file or directory in relation to the current working directory or another specified location.\n",
        "#           It is a path that is expressed in relation to the current context rather than from the root directory."
      ]
    },
    {
      "cell_type": "code",
      "source": [
        "# Ans no 2:-An absolute path starts with the root directory of the operating system. The specific root directory depends on the operating system An absolute\n",
        "#           path provides the complete and specific location of a file or directory, starting from the root directory. It includes all the necessary\n",
        "#           directory names and separators to reach the target file or directory, regardless of the current working directory or context.\n",
        "\n",
        "#          On Windows systems, the absolute path starts with the drive letter followed by a colon and a backslash () for local paths.\n",
        "#           For example: 'C:\\Users\\User\\Documents\\file.txt'."
      ],
      "metadata": {
        "id": "VlvwpIYWfQUf"
      },
      "execution_count": 1,
      "outputs": []
    },
    {
      "cell_type": "code",
      "source": [
        "# Ans no 3:- The functions 'os.getcwd()' and 'os.chdir()' are part of the 'os' module in Python, which provides functions for interacting with the\n",
        "#            operating system.The 'os.getcwd()' function returns the current working directory. The 'os.chdir()' function changes the current working directory.\n",
        "\n",
        "import os\n",
        "\n",
        "current_directory = os.getcwd()\n",
        "print(current_directory)\n",
        "\n",
        "\n",
        "# import os\n",
        "\n",
        "# os.chdir('/Users/user/Documents')"
      ],
      "metadata": {
        "colab": {
          "base_uri": "https://localhost:8080/"
        },
        "id": "MXH7gbPMirAn",
        "outputId": "cfac3939-52dd-4dc4-841c-509d2d5180b5"
      },
      "execution_count": 6,
      "outputs": [
        {
          "output_type": "stream",
          "name": "stdout",
          "text": [
            "/content\n"
          ]
        }
      ]
    },
    {
      "cell_type": "code",
      "source": [
        "# Ans no 4:- '.' (dot):- The '.' folder refers to the current directory. It is used to represent the current working directory or the location where the\n",
        "#            file operation is being performed.\n",
        "\n",
        "#            '..' (dot dot):- The '..' folder refers to the parent directory. It is used to navigate one level up in the directory hierarchy."
      ],
      "metadata": {
        "id": "6QxhbAndjkH2"
      },
      "execution_count": 7,
      "outputs": []
    },
    {
      "cell_type": "code",
      "source": [
        "# Ans no 5:- \"C:\\bacon\\eggs\" is the directory name (dir name). It refers to the path of the directory containing the file \"spam.txt\".\n",
        "#            It represents the location or folder hierarchy.\n",
        "#            \"spam.txt\" is the base name. It refers to the name of the file itself, without including the directory path."
      ],
      "metadata": {
        "id": "kHxeXUNjlPy-"
      },
      "execution_count": 8,
      "outputs": []
    },
    {
      "cell_type": "code",
      "source": [
        "# Ans no 6:- the three “mode” arguments that can be passed to the open() function:-\n",
        "#           'r' (Read mode):- This is the default mode and is used for opening a file for reading. It allows you to read the contents of an existing file.\n",
        "#           'w' (Write mode): This mode is used for opening a file for writing. It will create a new file if it doesn't exist or truncate the existing\n",
        "#            file to zero length. Any previous contents of the file will be deleted.\n",
        "#            'a' (Append mode): This mode is used for opening a file in append mode. It allows you to append new data to the end of an existing file.\n",
        "#            If the file doesn't exist, it will be created."
      ],
      "metadata": {
        "id": "HP-sLk6FmLDH"
      },
      "execution_count": 10,
      "outputs": []
    },
    {
      "cell_type": "code",
      "source": [
        "# Ans no 7:- The existing file will be truncated to zero length, erasing all its contents. The file will be considered empty after opening it in write mode.\n",
        "#            opening a file in write mode will overwrite any existing content in the file."
      ],
      "metadata": {
        "id": "N8KLHPEoo728"
      },
      "execution_count": 11,
      "outputs": []
    },
    {
      "cell_type": "code",
      "source": [
        "# Ans no 8:- The 'read()' and 'readlines()' methods are both used to read data from a file in Python , The read() method returns the file's entire contents\n",
        "#            as a single string value. The readlines() method returns a list of strings, where each string is a line from the file's contents."
      ],
      "metadata": {
        "id": "fdAkm3l8tWQr"
      },
      "execution_count": 12,
      "outputs": []
    },
    {
      "cell_type": "code",
      "source": [
        "# Ans no 9:- A shelf value resembles a dictionary value; it has keys and values, along with keys() and values() methods that work similarly to the\n",
        "#           dictionary methods of the same names."
      ],
      "metadata": {
        "id": "7_TRth1guvRc"
      },
      "execution_count": 13,
      "outputs": []
    }
  ]
}