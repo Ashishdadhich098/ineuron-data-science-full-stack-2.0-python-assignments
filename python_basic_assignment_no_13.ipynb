{
  "nbformat": 4,
  "nbformat_minor": 0,
  "metadata": {
    "colab": {
      "provenance": []
    },
    "kernelspec": {
      "name": "python3",
      "display_name": "Python 3"
    },
    "language_info": {
      "name": "python"
    }
  },
  "cells": [
    {
      "cell_type": "code",
      "execution_count": null,
      "metadata": {
        "id": "G81g6h7tHHHR"
      },
      "outputs": [],
      "source": [
        "# Ans no 1:-Excel spreadsheets have several advantages over CSV (Comma-Separated Values).CSV spreadsheets are simpler and more widely supported as a\n",
        "#           plain-text format, Excel offers enhanced functionality, advanced features, and better data presentation options, making it a preferred choice\n",
        "#           for complex data analysis, reporting, and professional presentations."
      ]
    },
    {
      "cell_type": "code",
      "source": [
        "# Ans no 2:-To create reader and writer objects using the 'csv' module in Python, we can pass file objects as arguments to 'csv.reader()' and 'csv.writer()'\n",
        "#           functions.\n",
        "#           ex-\n",
        "import csv\n",
        "#  to Open the CSV file in read mode\n",
        "with open('data.csv', 'r') as file:\n",
        "    # Create the reader object\n",
        "    reader = csv.reader(file)\n",
        "\n",
        "import csv\n",
        "\n",
        "#  to Open the CSV file in write mode\n",
        "with open('output.csv', 'w') as file:\n",
        "    # Create the writer object\n",
        "    writer = csv.writer(file)\n"
      ],
      "metadata": {
        "id": "Pi6A0zlXU6A6"
      },
      "execution_count": null,
      "outputs": []
    },
    {
      "cell_type": "code",
      "source": [
        "# Ans no 3:- For reader objects, the File object needs to be opened in read mode ('r'). This allows the reader to read data from the file.\n",
        "\n",
        "#          For writer objects, the File object needs to be opened in write mode ('w'). This allows the writer to write data to the file."
      ],
      "metadata": {
        "id": "Cl4IQEGnflVZ"
      },
      "execution_count": null,
      "outputs": []
    },
    {
      "cell_type": "code",
      "source": [
        "# Ans no 4:- The 'writerow()' method is used to write a single row of data to a CSV file using a writer object. To write multiple rows of data, you can\n",
        "#            pass a list of lists to the 'writerows()' method. Each inner list represents a row in the CSV file.\n",
        "\n",
        "import csv\n",
        "\n",
        "data = [\n",
        "    ['Name', 'Age', 'Country'],\n",
        "    ['amit', '25', 'USA'],\n",
        "    ['ajay', '30', 'india'],\n",
        "    ['ankit', '35', 'Australia']\n",
        "]\n",
        "\n",
        "with open('output.csv', 'w', newline='') as file:\n",
        "    writer = csv.writer(file)\n",
        "    writer.writerows(data)"
      ],
      "metadata": {
        "id": "aWo9Lad3gEL-"
      },
      "execution_count": null,
      "outputs": []
    },
    {
      "cell_type": "code",
      "source": [
        "# Ans no 5:- delimiter:- The 'delimiter' argument specifies the character or string used to separate fields (columns) within a row. By default, it is set\n",
        "#                       to '','' (comma). However, you can customize it to any character or string you prefer. For example, if you want to use a tab as the\n",
        "#                       'delimiter', we can pass ''\\t'' as the value for the delimiter argument.\n",
        "\n",
        "#          lineterminator:- The 'lineterminator' argument specifies the character or string used to terminate each row in the CSV file. By default, it is set\n",
        "#                            to '\\r\\n' (carriage return + line feed), which is the standard line ending on Windows systems. However, we can modify it based\n",
        "#                            on our requirements. For example, if we want to use only a newline character ('\\n') as the line terminator, we can pass '\\n'\n",
        "#                           as the value for the lineterminator argument."
      ],
      "metadata": {
        "id": "qn8hasRUg9Cu"
      },
      "execution_count": null,
      "outputs": []
    },
    {
      "cell_type": "code",
      "source": [
        "# Ans no 6:- The 'json.loads()' function is used to take a string of JSON data and return a Python data structure. It is part of the json module in\n",
        "#            Python's standard library.\n",
        "#            ex-\n",
        "import json\n",
        "\n",
        "json_data = '{\"name\": \"John\", \"age\": 30, \"city\": \"New York\"}'\n",
        "python_data = json.loads(json_data)\n",
        "\n",
        "print(python_data)"
      ],
      "metadata": {
        "id": "V6vZM4tyikJH"
      },
      "execution_count": null,
      "outputs": []
    },
    {
      "cell_type": "code",
      "source": [
        "# Ans no 7:- The 'json.dumps()' function is used to take a Python data structure and return a string of JSON data. It is part of the 'json' module in Python's\n",
        "#            standard library\n",
        "#            ex-\n",
        "import json\n",
        "\n",
        "python_data = {\"name\": \"John\", \"age\": 30, \"city\": \"New York\"}\n",
        "json_data = json.dumps(python_data)\n",
        "\n",
        "print(json_data)"
      ],
      "metadata": {
        "id": "S7oYRkLIjVnd"
      },
      "execution_count": null,
      "outputs": []
    }
  ]
}