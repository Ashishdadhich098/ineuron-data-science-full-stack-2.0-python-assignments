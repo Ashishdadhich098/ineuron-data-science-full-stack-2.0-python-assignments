{
  "nbformat": 4,
  "nbformat_minor": 0,
  "metadata": {
    "colab": {
      "provenance": []
    },
    "kernelspec": {
      "name": "python3",
      "display_name": "Python 3"
    },
    "language_info": {
      "name": "python"
    }
  },
  "cells": [
    {
      "cell_type": "code",
      "execution_count": null,
      "metadata": {
        "id": "UFKxuxu8lQGC"
      },
      "outputs": [],
      "source": [
        "# Ans no 1:-RGBA stands for Red Green Blue Alpha. It is a color model that represents colors using a combination of red, green, and blue components, along\n",
        "#           with an alpha component that represents the transparency or opacity of the color. Each component is represented by an integer value ranging from\n",
        "#           0 to 255, where 0 represents the absence of the color and 255 represents the maximum intensity of the color. The alpha component ranges from 0\n",
        "#           to 1, where 0 represents fully transparent and 1 represents fully opaque. RGBA is commonly used in computer graphics, image processing, and web\n",
        "#           design to specify and manipulate colors."
      ]
    },
    {
      "cell_type": "code",
      "source": [
        "# Ans no 2:- To get the RGBA value of any image using the Pillow module in Python, you can use the 'getpixel()' method.\n",
        "#            ex-\n",
        "from PIL import Image\n",
        "\n",
        "# Open the image\n",
        "image = Image.open(\"image.jpg\")\n",
        "\n",
        "# Get the RGBA value of a pixel at coordinates (x, y)\n",
        "x = 100\n",
        "y = 200\n",
        "rgba = image.getpixel((x, y))\n",
        "\n",
        "print(rgba)\n"
      ],
      "metadata": {
        "id": "hA3uFu60CmHJ"
      },
      "execution_count": null,
      "outputs": []
    },
    {
      "cell_type": "code",
      "source": [
        "# Ans no 3:-In the context of the Pillow module in Python, a box tuple represents a rectangular region within an image. It is a tuple containing four\n",
        "#           values: (left, upper, right, lower), where:\n",
        "\n",
        "#          left represents the x-coordinate of the left edge of the box.\n",
        "#          upper represents the y-coordinate of the upper edge of the box.\n",
        "#         right represents the x-coordinate of the right edge of the box.\n",
        "#         lower represents the y-coordinate of the lower edge of the box.\n",
        "#         The box tuple defines the boundaries of the region or box within the image. It can be used to perform various operations on the image, such as\n",
        "#         cropping, resizing, or extracting a specific region."
      ],
      "metadata": {
        "id": "bUzTJJx5FCAY"
      },
      "execution_count": null,
      "outputs": []
    },
    {
      "cell_type": "code",
      "source": [
        "# Ans no 4:- To find out the width and height of an Image object using the Pillow module in Python, we can use the 'size' attribute of the Image object.\n",
        "#            ex-\n",
        "from PIL import Image\n",
        "\n",
        "# Open the image\n",
        "image = Image.open(\"image.jpg\")\n",
        "\n",
        "# Get the width and height of the image\n",
        "width, height = image.size\n",
        "\n",
        "# Print the width and height\n",
        "print(\"Width:\", width)\n",
        "print(\"Height:\", height)"
      ],
      "metadata": {
        "id": "dJr3Bb_iFdEj"
      },
      "execution_count": null,
      "outputs": []
    },
    {
      "cell_type": "code",
      "source": [
        "# Ans no 5:- To get an Image object for a 100x100 image, excluding the lower-left quarter of it using the Pillow module in Python, we can use the crop()\n",
        "#            method of the Image object.\n",
        "#            ex-\n",
        "from PIL import Image\n",
        "\n",
        "# Open the image\n",
        "image = Image.open(\"image.jpg\")\n",
        "\n",
        "# Define the coordinates for cropping (excluding the lower-left quarter)\n",
        "left = 0\n",
        "upper = 0\n",
        "right = 100\n",
        "lower = 100\n",
        "\n",
        "# Crop the image\n",
        "cropped_image = image.crop((left, upper, right, lower))\n",
        "\n",
        "# Display the cropped image\n",
        "cropped_image.show()"
      ],
      "metadata": {
        "id": "5nl5JDffGVYY"
      },
      "execution_count": null,
      "outputs": []
    },
    {
      "cell_type": "code",
      "source": [
        "# Ans no 6:-To save changes made to an Image object as an image file using the Pillow module in Python, you can use the 'save()' method.\n",
        "#           ex-\n",
        "from PIL import Image\n",
        "\n",
        "# Open the image\n",
        "image = Image.open(\"input.jpg\")\n",
        "\n",
        "# Make changes to the image (e.g., resize, crop, rotate, etc.)\n",
        "\n",
        "# Save the modified image\n",
        "image.save(\"output.jpg\")"
      ],
      "metadata": {
        "id": "nG3SwyDjHCwy"
      },
      "execution_count": null,
      "outputs": []
    },
    {
      "cell_type": "code",
      "source": [
        "# Ans no 7:-The module that contains Pillow's shape-drawing code is PIL.ImageDraw. This module provides the functionality to draw various shapes such as\n",
        "#          lines, rectangles, circles, and polygons on an Image object. It is part of the Pillow library, which is a fork of the Python Imaging Library\n",
        "#          (PIL) and provides extensive image processing capabilities. To use the shape-drawing functionality, we would typically import ImageDraw from\n",
        "#          the PIL package."
      ],
      "metadata": {
        "id": "w0jPmUQdIDWh"
      },
      "execution_count": null,
      "outputs": []
    },
    {
      "cell_type": "code",
      "source": [
        "# Ans no 8:- To get an ImageDraw object, we need to import the ImageDraw module from the Pillow library and create an instance of it by passing the\n",
        "#            Image object we want to draw on.\n",
        "#            ex-\n",
        "from PIL import Image, ImageDraw\n",
        "\n",
        "# Open an image\n",
        "image = Image.open(\"image.jpg\")\n",
        "\n",
        "# Create an ImageDraw object\n",
        "draw = ImageDraw.Draw(image)\n",
        "\n",
        "# Use drawing methods on the ImageDraw object\n",
        "draw.rectangle((100, 100, 200, 200), fill=\"red\", outline=\"black\")\n",
        "draw.line((50, 50, 250, 250), fill=\"blue\", width=2)\n",
        "# ... other drawing operations ...\n",
        "\n",
        "# Save the modified image\n",
        "image.save(\"output.jpg\")\n"
      ],
      "metadata": {
        "id": "smVuwM4OIkHy"
      },
      "execution_count": null,
      "outputs": []
    }
  ]
}