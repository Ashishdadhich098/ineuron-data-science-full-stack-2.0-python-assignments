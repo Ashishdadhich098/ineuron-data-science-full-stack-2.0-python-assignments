{
  "nbformat": 4,
  "nbformat_minor": 0,
  "metadata": {
    "colab": {
      "provenance": []
    },
    "kernelspec": {
      "name": "python3",
      "display_name": "Python 3"
    },
    "language_info": {
      "name": "python"
    }
  },
  "cells": [
    {
      "cell_type": "code",
      "execution_count": null,
      "metadata": {
        "id": "9Y1ADZYN89Eh"
      },
      "outputs": [],
      "source": [
        "# Ans no 1:- the empty dictionary is look like {} this .\n",
        "#            ex- empty_dict = {}\n",
        "#                empty_dict = dict()"
      ]
    },
    {
      "cell_type": "code",
      "source": [
        "# Ans no 2:-\n",
        "my_dict = {'foo': 42}\n",
        "\n",
        "#my_dict is a dictionary that contains a single key-value pair. The key 'foo' maps to the value 42."
      ],
      "metadata": {
        "id": "Woc08VsCxaVU"
      },
      "execution_count": null,
      "outputs": []
    },
    {
      "cell_type": "code",
      "source": [
        "# Ans no 3:- To include backslash characters in a string, we can use the backslash '\\' itself as an escape character.\n",
        "#             This is known as escaping the backslash.\n"
      ],
      "metadata": {
        "id": "knb7Rf1GyIdl"
      },
      "execution_count": null,
      "outputs": []
    },
    {
      "cell_type": "code",
      "source": [
        "# Ans no 4:-\n",
        "spam ={'bar':100}\n",
        "spam['foo']\n",
        "\n",
        "# The 'KeyError' is raised when we try to access a key in a dictionary that doesn't exist. In this case, the dictionary 'spam' contains\n",
        "# only one key-value pair, where the key is 'bar' and the value is 100. There is no key 'foo' present in the dictionary, so attempting to\n",
        "# access it will result in a KeyError."
      ],
      "metadata": {
        "colab": {
          "base_uri": "https://localhost:8080/",
          "height": 200
        },
        "id": "oBvyGL5G6qBO",
        "outputId": "3addebfe-2de9-4fba-e092-f7d8365d0de5"
      },
      "execution_count": null,
      "outputs": [
        {
          "output_type": "error",
          "ename": "KeyError",
          "evalue": "ignored",
          "traceback": [
            "\u001b[0;31m---------------------------------------------------------------------------\u001b[0m",
            "\u001b[0;31mKeyError\u001b[0m                                  Traceback (most recent call last)",
            "\u001b[0;32m<ipython-input-6-c711d92775ff>\u001b[0m in \u001b[0;36m<cell line: 3>\u001b[0;34m()\u001b[0m\n\u001b[1;32m      1\u001b[0m \u001b[0;31m# Ans no 4:-\u001b[0m\u001b[0;34m\u001b[0m\u001b[0;34m\u001b[0m\u001b[0m\n\u001b[1;32m      2\u001b[0m \u001b[0mspam\u001b[0m \u001b[0;34m=\u001b[0m\u001b[0;34m{\u001b[0m\u001b[0;34m'bar'\u001b[0m\u001b[0;34m:\u001b[0m\u001b[0;36m100\u001b[0m\u001b[0;34m}\u001b[0m\u001b[0;34m\u001b[0m\u001b[0;34m\u001b[0m\u001b[0m\n\u001b[0;32m----> 3\u001b[0;31m \u001b[0mspam\u001b[0m\u001b[0;34m[\u001b[0m\u001b[0;34m'foo'\u001b[0m\u001b[0;34m]\u001b[0m\u001b[0;34m\u001b[0m\u001b[0;34m\u001b[0m\u001b[0m\n\u001b[0m",
            "\u001b[0;31mKeyError\u001b[0m: 'foo'"
          ]
        }
      ]
    },
    {
      "cell_type": "code",
      "source": [
        "# Ans no 5:-\n",
        "spam ={'cat':100}\n",
        "'cat' in spam\n",
        "\n",
        "'cat' in spam.keys()\n",
        "\n",
        "# both expressions serve the same purpose and would yield the same result. They both check if the key 'cat' is present in the dictionary spam ."
      ],
      "metadata": {
        "colab": {
          "base_uri": "https://localhost:8080/"
        },
        "id": "wiA8tiSD7uNI",
        "outputId": "f5576136-74f3-4e17-95c4-1814e2a3fc43"
      },
      "execution_count": null,
      "outputs": [
        {
          "output_type": "execute_result",
          "data": {
            "text/plain": [
              "True"
            ]
          },
          "metadata": {},
          "execution_count": 7
        }
      ]
    },
    {
      "cell_type": "code",
      "source": [
        "# Ans no 6:-\n",
        "spam ={'cat':100}\n",
        "'cat' in spam"
      ],
      "metadata": {
        "colab": {
          "base_uri": "https://localhost:8080/"
        },
        "id": "EQqUcDLv_oUi",
        "outputId": "7ff5d3c6-d0e4-4449-c77d-29da30c84132"
      },
      "execution_count": null,
      "outputs": [
        {
          "output_type": "execute_result",
          "data": {
            "text/plain": [
              "True"
            ]
          },
          "metadata": {},
          "execution_count": 8
        }
      ]
    },
    {
      "cell_type": "code",
      "source": [
        "spam ={'cat':100}\n",
        "'cat' in spam.values()\n",
        "\n",
        "# 'cat' in spam checks whether there is a 'cat' key in the dictionary.\n",
        "# 'cat' in spam.values() checks whether there is a value 'cat' for one of the keys in spam.\n"
      ],
      "metadata": {
        "colab": {
          "base_uri": "https://localhost:8080/"
        },
        "id": "J5MWCy0PBJQD",
        "outputId": "2ce4d42e-b35b-4e3c-d474-f52a6e75c4e2"
      },
      "execution_count": null,
      "outputs": [
        {
          "output_type": "execute_result",
          "data": {
            "text/plain": [
              "False"
            ]
          },
          "metadata": {},
          "execution_count": 9
        }
      ]
    },
    {
      "cell_type": "code",
      "source": [
        "# Ans no 7:-\n",
        "spam = {'cat':100}\n",
        "spam.setdefault('colour','black')\n",
        "spam\n",
        "\n",
        "# .setdefault will directly assign the value of key 'colour' to the 'black'"
      ],
      "metadata": {
        "colab": {
          "base_uri": "https://localhost:8080/"
        },
        "id": "lW8edI8nBpJr",
        "outputId": "9ac79e80-aa93-4795-a178-9a67eec68fd8"
      },
      "execution_count": null,
      "outputs": [
        {
          "output_type": "execute_result",
          "data": {
            "text/plain": [
              "{'cat': 100, 'colour': 'black'}"
            ]
          },
          "metadata": {},
          "execution_count": 10
        }
      ]
    },
    {
      "cell_type": "code",
      "source": [
        " # Ans no 8:- we can use the 'pprint' module and its 'pprint()' function in Python .\n",
        "\n",
        " #            ex-\n",
        "import pprint\n",
        "\n",
        "my_dict = {'name': 'Ashish', 'age': 24, 'city': 'udaipur'}\n",
        "\n",
        "pprint.pprint(my_dict)"
      ],
      "metadata": {
        "colab": {
          "base_uri": "https://localhost:8080/"
        },
        "id": "V7mYTyU5Cv5q",
        "outputId": "165b0d8e-75d4-4869-bf9f-6cef1053c60a"
      },
      "execution_count": null,
      "outputs": [
        {
          "output_type": "stream",
          "name": "stdout",
          "text": [
            "{'age': 24, 'city': 'udaipur', 'name': 'Ashish'}\n"
          ]
        }
      ]
    },
    {
      "cell_type": "code",
      "source": [],
      "metadata": {
        "id": "b0I8XSeWE_FF"
      },
      "execution_count": null,
      "outputs": []
    }
  ]
}