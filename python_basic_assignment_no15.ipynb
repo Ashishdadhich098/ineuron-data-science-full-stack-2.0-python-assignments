{
  "nbformat": 4,
  "nbformat_minor": 0,
  "metadata": {
    "colab": {
      "provenance": []
    },
    "kernelspec": {
      "name": "python3",
      "display_name": "Python 3"
    },
    "language_info": {
      "name": "python"
    }
  },
  "cells": [
    {
      "cell_type": "code",
      "execution_count": 1,
      "metadata": {
        "colab": {
          "base_uri": "https://localhost:8080/"
        },
        "id": "43e28JgCKpYj",
        "outputId": "24bbcb3e-ac38-4f31-c9e0-885f6deae15a"
      },
      "outputs": [
        {
          "output_type": "stream",
          "name": "stdout",
          "text": [
            "3600\n"
          ]
        }
      ],
      "source": [
        "# Ans no 1:- There are 60 seconds in a minute and 60 minutes in an hour. To calculate the number of seconds in an hour, we can multiply these two\n",
        "#values together:\n",
        "seconds_in_a_minute = 60\n",
        "minutes_in_an_hour = 60\n",
        "\n",
        "seconds_in_an_hour = seconds_in_a_minute * minutes_in_an_hour\n",
        "\n",
        "print(seconds_in_an_hour)"
      ]
    },
    {
      "cell_type": "code",
      "source": [
        "# Ans no 2:-  we can assign the result of the calculation to a variable called seconds_per_hour using the assignment operator (=).\n",
        "seconds_per_hour = 3600"
      ],
      "metadata": {
        "id": "BRYewtTkeh38"
      },
      "execution_count": 2,
      "outputs": []
    },
    {
      "cell_type": "code",
      "source": [
        "# Ans no 3:- To calculate the number of seconds in a day, we can use the seconds_per_hour variable and multiply it by the number of hours in a day, which\n",
        "#            is 24.\n",
        "seconds_per_hour*24"
      ],
      "metadata": {
        "colab": {
          "base_uri": "https://localhost:8080/"
        },
        "id": "QWvZsz-2f7ts",
        "outputId": "a0c84dbf-0b0d-41b6-8925-6de308b2eac0"
      },
      "execution_count": 3,
      "outputs": [
        {
          "output_type": "execute_result",
          "data": {
            "text/plain": [
              "86400"
            ]
          },
          "metadata": {},
          "execution_count": 3
        }
      ]
    },
    {
      "cell_type": "code",
      "source": [
        "# Ans no 4:-\n",
        "seconds_per_day = seconds_per_hour*24\n",
        "seconds_per_day"
      ],
      "metadata": {
        "colab": {
          "base_uri": "https://localhost:8080/"
        },
        "id": "QHzMHKUchtZD",
        "outputId": "987ced13-efad-4c62-e85c-a78408f5103d"
      },
      "execution_count": 4,
      "outputs": [
        {
          "output_type": "execute_result",
          "data": {
            "text/plain": [
              "86400"
            ]
          },
          "metadata": {},
          "execution_count": 4
        }
      ]
    },
    {
      "cell_type": "code",
      "source": [
        "# Ans no 5:-\n",
        "seconds_per_day/seconds_in_an_hour"
      ],
      "metadata": {
        "colab": {
          "base_uri": "https://localhost:8080/"
        },
        "id": "h3uQsgsGiCom",
        "outputId": "d59db046-6983-48e8-f50d-559df3b3ae87"
      },
      "execution_count": 5,
      "outputs": [
        {
          "output_type": "execute_result",
          "data": {
            "text/plain": [
              "24.0"
            ]
          },
          "metadata": {},
          "execution_count": 5
        }
      ]
    },
    {
      "cell_type": "code",
      "source": [
        "# Ans no 6:-\n",
        "seconds_per_day//seconds_in_an_hour"
      ],
      "metadata": {
        "colab": {
          "base_uri": "https://localhost:8080/"
        },
        "id": "AB_AKMk1iSW7",
        "outputId": "10434d77-712a-4070-dd60-a112bd6f32f0"
      },
      "execution_count": 6,
      "outputs": [
        {
          "output_type": "execute_result",
          "data": {
            "text/plain": [
              "24"
            ]
          },
          "metadata": {},
          "execution_count": 6
        }
      ]
    },
    {
      "cell_type": "code",
      "source": [
        "# Ans no 7:-\n",
        "def genPrimes():\n",
        "    primes = []\n",
        "    num = 2\n",
        "\n",
        "    while True:\n",
        "        if all(num % prime != 0 for prime in primes):\n",
        "            primes.append(num)\n",
        "            yield num\n",
        "        num += 1"
      ],
      "metadata": {
        "id": "n2cli4YlikJV"
      },
      "execution_count": 9,
      "outputs": []
    },
    {
      "cell_type": "code",
      "source": [],
      "metadata": {
        "id": "SKVwF1GnjHSb"
      },
      "execution_count": null,
      "outputs": []
    }
  ]
}