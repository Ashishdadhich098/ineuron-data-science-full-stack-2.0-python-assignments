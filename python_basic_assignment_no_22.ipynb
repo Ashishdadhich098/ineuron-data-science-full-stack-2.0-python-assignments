{
  "nbformat": 4,
  "nbformat_minor": 0,
  "metadata": {
    "colab": {
      "provenance": []
    },
    "kernelspec": {
      "name": "python3",
      "display_name": "Python 3"
    },
    "language_info": {
      "name": "python"
    }
  },
  "cells": [
    {
      "cell_type": "code",
      "execution_count": 1,
      "metadata": {
        "colab": {
          "base_uri": "https://localhost:8080/"
        },
        "id": "K0C6vawV0e6L",
        "outputId": "3ac5fac4-a82e-4f49-c3ee-42b5056e7292"
      },
      "outputs": [
        {
          "output_type": "stream",
          "name": "stdout",
          "text": [
            "iNeuron\n"
          ]
        }
      ],
      "source": [
        "# Ans no 1:-\n",
        "X = 'iNeuron'\n",
        "def func():\n",
        "    print(X)\n",
        "func()\n",
        "\n",
        "# The global variables are accessible in side the functions in python.\n",
        "# But we can not access function variable out side function.\n",
        "# Since x is global variable we are able to print it in side the function solution : 'iNeuron'\n",
        ""
      ]
    },
    {
      "cell_type": "code",
      "source": [
        "# Ans no 2:-\n",
        "X = 'iNeuron'\n",
        "def func():\n",
        "    X = 'NI!'\n",
        "\n",
        "func()\n",
        "print(X)\n",
        "\n",
        "# The global variables are access in side the functions in python. But we can not access function variable out side function.\n",
        "# Since x is golbal variable we are able to print it out side of the function solution = 'iNeuron'\n",
        ""
      ],
      "metadata": {
        "colab": {
          "base_uri": "https://localhost:8080/"
        },
        "id": "VNJlP7P81j6L",
        "outputId": "bbc4a377-70ed-4d67-a746-f60cf81639d8"
      },
      "execution_count": 2,
      "outputs": [
        {
          "output_type": "stream",
          "name": "stdout",
          "text": [
            "iNeuron\n"
          ]
        }
      ]
    },
    {
      "cell_type": "code",
      "source": [
        "# Ans no 3:-\n",
        "X = 'iNeuron'\n",
        "def func():\n",
        "    X = 'NI!'\n",
        "    print(X)\n",
        "\n",
        "func()\n",
        "print(X)\n",
        "\n",
        "# The global variables are access in side the functions in python. But we can not access function variable out side function.\n",
        "# X is updated with 'NI' which is local to function and its immutable. its name space is with in the function solution = 'NI!', 'iNeuron'\n",
        ""
      ],
      "metadata": {
        "colab": {
          "base_uri": "https://localhost:8080/"
        },
        "id": "jHy0Js-c2Eu_",
        "outputId": "3282ad4c-ba52-4fa9-cb87-356175d4d2bf"
      },
      "execution_count": 3,
      "outputs": [
        {
          "output_type": "stream",
          "name": "stdout",
          "text": [
            "NI!\n",
            "iNeuron\n"
          ]
        }
      ]
    },
    {
      "cell_type": "code",
      "source": [
        "# Ans no 4:-\n",
        "X = 'iNeuron'\n",
        "def func():\n",
        "    global X\n",
        "    X = 'NI!'\n",
        "    print(X)\n",
        "\n",
        "func()\n",
        "print(X)\n",
        "# since the X in side function is made Global, it will be accesible out side of the function too.\n",
        "# now X will have new value.\n",
        "\n",
        " #solution : 'NI!', 'NI!'\n",
        ""
      ],
      "metadata": {
        "colab": {
          "base_uri": "https://localhost:8080/"
        },
        "id": "2r2biqM86UDy",
        "outputId": "93849211-5b05-4e11-bda5-7123880afa6c"
      },
      "execution_count": 4,
      "outputs": [
        {
          "output_type": "stream",
          "name": "stdout",
          "text": [
            "NI!\n",
            "NI!\n"
          ]
        }
      ]
    },
    {
      "cell_type": "code",
      "source": [
        "# Ans no 5:-\n",
        "X = 'iNeuron'\n",
        "def func():\n",
        "    X = 'NI'\n",
        "def nested():\n",
        "    print(X)\n",
        "\n",
        "nested()\n",
        "func()\n",
        "X\n",
        "\n",
        "# the nested() function will print 'iNeuron', Then func() does not display anything,\n",
        "# and x ='NI' is not accessible out side the function.\n",
        "# Solution : 'iNeuron'"
      ],
      "metadata": {
        "colab": {
          "base_uri": "https://localhost:8080/",
          "height": 53
        },
        "id": "WnBYby-W6ovZ",
        "outputId": "302fa58a-9cdc-4b37-edc3-9353841485e2"
      },
      "execution_count": 5,
      "outputs": [
        {
          "output_type": "stream",
          "name": "stdout",
          "text": [
            "iNeuron\n"
          ]
        },
        {
          "output_type": "execute_result",
          "data": {
            "text/plain": [
              "'iNeuron'"
            ],
            "application/vnd.google.colaboratory.intrinsic+json": {
              "type": "string"
            }
          },
          "metadata": {},
          "execution_count": 5
        }
      ]
    },
    {
      "cell_type": "code",
      "source": [
        "# Ans no 6:-\n",
        "def func():\n",
        "    X = 'NI'\n",
        "    def nested():\n",
        "        nonlocal X\n",
        "        X = 'spam'\n",
        "    nested()\n",
        "    print(X)\n",
        "\n",
        "func()\n",
        "\n",
        "#Nonlocal variables are used in nested functions whose local scope is not defined.\n",
        "#This means that the variable can be neither in the local nor the global scope. it print the updated value from nested function\n",
        "\n",
        "#Sol : 'spam'"
      ],
      "metadata": {
        "colab": {
          "base_uri": "https://localhost:8080/"
        },
        "id": "NjBY3xlC8jxM",
        "outputId": "8ee3dc99-77d9-45ea-f16c-b012b3f9ed30"
      },
      "execution_count": 6,
      "outputs": [
        {
          "output_type": "stream",
          "name": "stdout",
          "text": [
            "spam\n"
          ]
        }
      ]
    }
  ]
}