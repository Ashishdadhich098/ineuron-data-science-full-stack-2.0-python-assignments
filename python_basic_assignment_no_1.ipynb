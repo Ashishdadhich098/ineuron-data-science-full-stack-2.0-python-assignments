{
  "nbformat": 4,
  "nbformat_minor": 0,
  "metadata": {
    "colab": {
      "provenance": []
    },
    "kernelspec": {
      "name": "python3",
      "display_name": "Python 3"
    },
    "language_info": {
      "name": "python"
    }
  },
  "cells": [
    {
      "cell_type": "code",
      "source": [
        "# Ans no 1 :- In the given question values are ('hello',-87.8, 6) & expressions are (* , / , - , +)"
      ],
      "metadata": {
        "id": "ObfBqOFSz9Ew"
      },
      "execution_count": null,
      "outputs": []
    },
    {
      "cell_type": "code",
      "source": [
        "# Ans no 2 :- In  programming language variable is something that holds value and have storage location .variable may hold diffent values in the form of\n",
        "#              strings , boolean, integers,complex numbers ,etc.\n",
        "#              ex- A = (\"ram\" , 78 , True ,2+5j)\n",
        "#              while a string is a kind of data type it is written in ('') single quote and (\"\") double quote and string use to contain or manipulate\n",
        "#               textual data .\n",
        "#               ex- (\"hello\")."
      ],
      "metadata": {
        "id": "_7wOdTRh2NWj"
      },
      "execution_count": null,
      "outputs": []
    },
    {
      "cell_type": "code",
      "source": [
        "# Ans no 3 :- three diffrent data types\n",
        "#             1. string = string is the data type that contain and used for manupulating the texual data in the form of single (\"\") and dounle (\"\") quote\n",
        "#                         it contains charcters in the form of words  and sentences.\n",
        "#                         ex-(\" good evening\")\n",
        "#                            ('today is the thrusday and i am strting python assignments)\n",
        "\n",
        "#             2.integer = integer is data type and it represents whole numbers without decimals . they can be positive or negetive\n",
        "#                         ex-0, 5,-444,9999,\n",
        "\n",
        "#             3.float = float is a data type it represnts real numbers with decimal\n",
        "#                       ex- 1.5,-7.23,46.897"
      ],
      "metadata": {
        "id": "kAQiC_Bp-Nqm"
      },
      "execution_count": null,
      "outputs": []
    },
    {
      "cell_type": "code",
      "source": [
        "# Ans no 4:- An expression in programming is a combination of values, variables, operators, and function calls that evaluates to a single value.\n",
        "#            It represents a computation or a calculation.The expression in Python produces some value or result after being interpreted by\n",
        "#            the Python interpreter\n",
        "\n",
        "#           all expression in python programming language have the purpose of evaluating to a single value the value can be any data types like string\n",
        "#           boolean ,integer ,float.expression allow to perform calculations,manupulate data make comparsion and make decision in programming language."
      ],
      "metadata": {
        "id": "tP8gGNWJBhmN"
      },
      "execution_count": null,
      "outputs": []
    },
    {
      "cell_type": "code",
      "source": [
        "# Ans no 5:-  Expressions are used to perform calculations, manipulate data, make comparisons they are used with in statement to provide the values and\n",
        "#             condition necessary for the statement to execute .\n",
        "#              ex- In 'spam=10' 10 is the expression of the variable spam that is assingned by the = operator .\n",
        "\n",
        "#             statement is the complete unit of the code that perform an action or sequence of actions ,statement is used to control the flow of execution .\n",
        "#              'spam=10' is a complete statement that carrying variable, expression and operator ."
      ],
      "metadata": {
        "id": "2mCMolaRPaoS"
      },
      "execution_count": null,
      "outputs": []
    },
    {
      "cell_type": "code",
      "source": [
        "# Ans no 6:-\n",
        "bacon = 22\n",
        "bacon + 1\n",
        "\n",
        "# bacon varible is having the assigned value 22 and bacon +1 evaluate the value to 23 it will not affect the value  stored in  bacon that will unchanged\n",
        "# if we want to change the value then we have to reassign its value ."
      ],
      "metadata": {
        "colab": {
          "base_uri": "https://localhost:8080/"
        },
        "id": "ST88aUPMY1mH",
        "outputId": "eb1480c8-3ddd-4071-f79e-a0981f57b2d4"
      },
      "execution_count": null,
      "outputs": [
        {
          "output_type": "execute_result",
          "data": {
            "text/plain": [
              "23"
            ]
          },
          "metadata": {},
          "execution_count": 3
        }
      ]
    },
    {
      "cell_type": "code",
      "source": [
        "# Ans no 7:-\n",
        "'spamspam'+'spam'\n",
        "'spam'*3\n",
        "\n",
        "# both will evaluate to the the string  and give same values .in first concatination will do and in second replication will do ."
      ],
      "metadata": {
        "colab": {
          "base_uri": "https://localhost:8080/",
          "height": 35
        },
        "id": "fxuzIpyBwUc7",
        "outputId": "f0cf4dd9-4adb-4bdd-acb2-284a0a1351b0"
      },
      "execution_count": null,
      "outputs": [
        {
          "output_type": "execute_result",
          "data": {
            "text/plain": [
              "'spamspamspam'"
            ],
            "application/vnd.google.colaboratory.intrinsic+json": {
              "type": "string"
            }
          },
          "metadata": {},
          "execution_count": 6
        }
      ]
    },
    {
      "cell_type": "code",
      "source": [
        "# Ans no 8:-  eggs is a valid varible name but 100 is not a valid variable name beacuse variable names cannot start with number so it will give error ."
      ],
      "metadata": {
        "id": "VHnTx-UexGlR"
      },
      "execution_count": null,
      "outputs": []
    },
    {
      "cell_type": "code",
      "source": [
        "# Ans no 9:- The int(), float(), and str() functions will evaluate to the integer, floating-point number, and string versions of the value passed to them."
      ],
      "metadata": {
        "id": "CoCBPTZYzEsY"
      },
      "execution_count": null,
      "outputs": []
    },
    {
      "cell_type": "code",
      "source": [
        "# Ans no 10:-\n",
        "# 'i have eaten'+99+'burritos'\n",
        "#The expression causes an error because 99 is an integer, and only strings can be concatenated to other strings with the + operator.\n",
        "#The correct way is I have eaten ' + str(99) + ' burritos.'.\n"
      ],
      "metadata": {
        "id": "UGxl2g3p0Bo_"
      },
      "execution_count": null,
      "outputs": []
    },
    {
      "cell_type": "code",
      "source": [],
      "metadata": {
        "id": "fEfHvRgU0ZrQ"
      },
      "execution_count": null,
      "outputs": []
    }
  ]
}