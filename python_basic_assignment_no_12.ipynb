{
  "nbformat": 4,
  "nbformat_minor": 0,
  "metadata": {
    "colab": {
      "provenance": []
    },
    "kernelspec": {
      "name": "python3",
      "display_name": "Python 3"
    },
    "language_info": {
      "name": "python"
    }
  },
  "cells": [
    {
      "cell_type": "code",
      "execution_count": null,
      "metadata": {
        "id": "0PSEDf9NPXQd"
      },
      "outputs": [],
      "source": [
        "# Ans no 1:- 'PdfFileReader()':- The 'File' object should be opened in binary mode with the \"rb\" (read binary) mode. This allows reading the PDF\n",
        "#                                 file as binary data.\n",
        "#                              ex:-pdf_file = open('example.pdf', 'rb')\n",
        "#                                  pdf_reader = PdfFileReader(pdf_file)\n",
        "\n",
        "#          'PdfFileWriter()': The 'File' object should be opened in binary mode with the \"wb\" (write binary) mode. This allows writing the modified PDF\n",
        "#                              data back to a file.\n",
        "#                            ex:-output_pdf = open('output.pdf', 'wb')\n",
        "#                                pdf_writer = PdfFileWriter()"
      ]
    },
    {
      "cell_type": "code",
      "source": [
        "# Ans no 2:- To get a 'Page' object for page 5 from a 'PdfFileReader' object, we can use the 'getPage()' method and pass the index of the\n",
        "#            page (starting from 0).\n",
        "#            ex-\n",
        "!pip install PyPDF2\n",
        "\n",
        "from PyPDF2 import PdfFileReader\n",
        "\n",
        "pdf_reader = PdfFileReader('example.pdf')\n",
        "page_number = 4  # Page index starts from 0, so page 5 corresponds to index 4\n",
        "page = pdf_reader.getPage(page_number)"
      ],
      "metadata": {
        "id": "v6C2VxKwlN-P"
      },
      "execution_count": null,
      "outputs": []
    },
    {
      "cell_type": "code",
      "source": [
        "# Ans no 3:-The number of pages in a PDF document can be obtained using the 'numPages' variable of the 'PdfFileReader' object.\n",
        "#            ex-\n",
        "from PyPDF2 import PdfFileReader\n",
        "\n",
        "pdf_reader = PdfFileReader('example.pdf')\n",
        "num_pages = pdf_reader.numPages\n",
        "print(f\"The PDF document has {num_pages} pages.\")"
      ],
      "metadata": {
        "id": "0lauTyxfxeBa"
      },
      "execution_count": null,
      "outputs": []
    },
    {
      "cell_type": "code",
      "source": [
        "# Ans no 4:- If a 'PdfFileReader' object's PDF is encrypted with a password, we need to decrypt it using the 'decrypt()' method before obtaining 'Page'\n",
        "#            objects from it. The 'decrypt()' method takes the password as an argument.\n",
        "#             ex-\n",
        "from PyPDF2 import PdfFileReader\n",
        "\n",
        "pdf_reader = PdfFileReader('encrypted.pdf')\n",
        "pdf_reader.decrypt('swordfish')\n",
        "\n",
        "# Now we can obtain Page objects from the decrypted PDF\n",
        "page = pdf_reader.getPage(0)"
      ],
      "metadata": {
        "id": "HHokwMSvywt6"
      },
      "execution_count": null,
      "outputs": []
    },
    {
      "cell_type": "code",
      "source": [
        "# Ans no 5:- we can use the 'rotateClockwise()' or 'rotateCounterClockwise()' methods of the PageObject class. These methods allow us to rotate a page\n",
        "#            clockwise or counterclockwise by a specified angle."
      ],
      "metadata": {
        "id": "vhLlsU2d17Ws"
      },
      "execution_count": null,
      "outputs": []
    },
    {
      "cell_type": "code",
      "source": [
        "# Ans no 6:-A Run object represents a contiguous run of text within a paragraph that shares the same formatting properties. It is\n",
        "#          essentially a sequence of characters with consistent formatting. Runs can have different formatting attributes such as font style, size, color,\n",
        "#          boldness,italics, etc. Within a paragraph, there can be multiple runs to represent different sections of text with different formatting.\n",
        "\n",
        "#          A Paragraph object represents a single paragraph within a document. It contains one or more Run objects that make up the content of the\n",
        "#          paragraph. Paragraphs are separated by newline characters and typically represent a distinct block of text with its own formatting, such as\n",
        "#          indentation, alignment, spacing, etc. Paragraphs can contain multiple runs if there is a need for different formatting within the paragraph."
      ],
      "metadata": {
        "id": "b3h24_mU3QF0"
      },
      "execution_count": null,
      "outputs": []
    },
    {
      "cell_type": "code",
      "source": [
        "# Ans no 7:-To obtain a list of Paragraph objects from a Document object in python-docx, we can use the 'paragraphs' attribute of the Document object.\n",
        "#           ex-\n",
        "#!pip install python-docx\n",
        "import docx\n",
        "doc = docx.Document('abc.docx')\n",
        "doc.paragraphs\n",
        "#By using doc.paragraphs"
      ],
      "metadata": {
        "id": "-wj7A7hyCIKb"
      },
      "execution_count": null,
      "outputs": []
    },
    {
      "cell_type": "code",
      "source": [
        "# Ans no 8:-The 'Run' object in python-docx has the variables 'bold', 'underline', 'italic', 'strike', and 'outline' which represent different formatting\n",
        "#           options for a run of text within a paragraph."
      ],
      "metadata": {
        "id": "5BqO6h-gC-uC"
      },
      "execution_count": null,
      "outputs": []
    },
    {
      "cell_type": "code",
      "source": [
        "# Ans no 9:- Runs can be further styled using text attributes. Each attribute can be set to one of three values:\n",
        "#           True (the attribute is always enabled, no matter what other styles are applied to the run),\n",
        "#           False (the attribute is always disabled),\n",
        "#           None (defaults to whatever the run’s style is set to)\n",
        "\n",
        "#           True always makes the Run object bolded and False makes it always not bolded, no matter what the style’s bold setting is. None will make the\n",
        "#           Run object just use the style’s bold setting"
      ],
      "metadata": {
        "id": "rqSeIkGrD_DO"
      },
      "execution_count": null,
      "outputs": []
    },
    {
      "cell_type": "code",
      "source": [
        "# Ans no 10:-To create a 'Document' object for a new Word document using the 'python-docx' library, we can simply call the 'Document()' constructor\n",
        "#           without any arguments."
      ],
      "metadata": {
        "id": "MARrSDy7EtCW"
      },
      "execution_count": null,
      "outputs": []
    },
    {
      "cell_type": "code",
      "source": [
        "# Ans no 11:- To add a paragraph with the text 'Hello, there!' to a Document object stored in a variable named doc, we can use the add_paragraph()\n",
        "#             method of the Document.\n",
        "#             ex-\n",
        "import docx\n",
        "doc = docx.Document()\n",
        "\n",
        "doc.add_paragraph('Hello there!')\n",
        "doc.save('hellothere.docx')"
      ],
      "metadata": {
        "id": "u_GjgCFsFnxG"
      },
      "execution_count": null,
      "outputs": []
    },
    {
      "cell_type": "code",
      "source": [
        "# Ans no 12:-integer from 0 to 4\n",
        "#            the arguments to add_heading() are a string of the heading text and an integer from 0 to 4. The integer 0 makes the heading the Title style,\n",
        "#            which is used for the top of the document. Integers 1 to 4 are for various heading levels, with 1 being the main heading and 4 the\n",
        "#            lowest subheading.\n"
      ],
      "metadata": {
        "id": "wiC0ydQbGdTy"
      },
      "execution_count": null,
      "outputs": []
    }
  ]
}