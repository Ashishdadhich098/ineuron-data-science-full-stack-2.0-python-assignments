{
  "nbformat": 4,
  "nbformat_minor": 0,
  "metadata": {
    "colab": {
      "provenance": []
    },
    "kernelspec": {
      "name": "python3",
      "display_name": "Python 3"
    },
    "language_info": {
      "name": "python"
    }
  },
  "cells": [
    {
      "cell_type": "code",
      "execution_count": 2,
      "metadata": {
        "colab": {
          "base_uri": "https://localhost:8080/"
        },
        "id": "e2ANa1iH9rG0",
        "outputId": "7db0e7a1-f775-473a-8eac-3c2e9ade984b"
      },
      "outputs": [
        {
          "output_type": "stream",
          "name": "stdout",
          "text": [
            "1 2 8\n"
          ]
        }
      ],
      "source": [
        " # Ans no 1:-\n",
        "def func(a, b=6, c=8):\n",
        "  print(a, b, c)\n",
        "func(1, 2)\n",
        "# This funtion is taking a positional argument and 2 keyward argument. When function call m=is made, parameter passed are a=1,b=2. When the function is\n",
        "# executed , parameter c=8 will be taken by default as its a keyword argument.\n"
      ]
    },
    {
      "cell_type": "code",
      "source": [
        "# Ans no 2:-\n",
        "def func(a, b, c=5):\n",
        "\n",
        "  print(a, b, c)\n",
        "func(1, c=3, b=2)\n",
        "# When we make function call, order will be positional argument and then keywords arguments. we can pass the keyword arguments in any order ."
      ],
      "metadata": {
        "colab": {
          "base_uri": "https://localhost:8080/"
        },
        "id": "gDif51GNQU-a",
        "outputId": "e7351988-cc0f-45cb-f0ba-a1f8ba60118b"
      },
      "execution_count": 3,
      "outputs": [
        {
          "output_type": "stream",
          "name": "stdout",
          "text": [
            "1 2 3\n"
          ]
        }
      ]
    },
    {
      "cell_type": "code",
      "source": [
        "# Ans no 3:-\n",
        "def func(a, *pargs):\n",
        " print(a, pargs)\n",
        "func(1, 2, 3)\n",
        "#The return type of *args parameter is tuple, where as **kargs will be dictionary."
      ],
      "metadata": {
        "colab": {
          "base_uri": "https://localhost:8080/"
        },
        "id": "vRSAi5ZCRQ2s",
        "outputId": "d9d9b6d7-01ea-4fb2-eaba-117b63751471"
      },
      "execution_count": 4,
      "outputs": [
        {
          "output_type": "stream",
          "name": "stdout",
          "text": [
            "1 (2, 3)\n"
          ]
        }
      ]
    },
    {
      "cell_type": "code",
      "source": [
        "# Ans no 4:-\n",
        "def func(a, **kargs):\n",
        "  print(a, kargs)\n",
        "func(a=1, c=3, b=2)\n",
        "# The return type of  **kargs is  dictionary."
      ],
      "metadata": {
        "colab": {
          "base_uri": "https://localhost:8080/"
        },
        "id": "2_LaylMQR3Oc",
        "outputId": "f8e669bc-a9d4-4d00-ae8c-f751cb6c5655"
      },
      "execution_count": 5,
      "outputs": [
        {
          "output_type": "stream",
          "name": "stdout",
          "text": [
            "1 {'c': 3, 'b': 2}\n"
          ]
        }
      ]
    },
    {
      "cell_type": "code",
      "source": [
        "# Ans no 5:-\n",
        "def func(a, b, c=8, d=5): print(a, b, c, d)\n",
        "func(1, *(5, 6))\n",
        "# '*' is the unpacking operator and are operators that unpack the values from iterable objects in Python. The single\n",
        "#    asterisk operator * can be used on any iterable that Python provides, while the double asterisk operator ** can only\n",
        " #   be used on dictionaries. In the example the value *(5,6) will be unpacked and will be assigned to b and c and passed\n",
        " #   as arguments, d =5 will taken by defaults are keyword arguments.\n"
      ],
      "metadata": {
        "colab": {
          "base_uri": "https://localhost:8080/"
        },
        "id": "TlqVJ1DdSLEj",
        "outputId": "35d45073-edcb-4a39-dda6-ea4eb1472e48"
      },
      "execution_count": 6,
      "outputs": [
        {
          "output_type": "stream",
          "name": "stdout",
          "text": [
            "1 5 6 5\n"
          ]
        }
      ]
    },
    {
      "cell_type": "code",
      "source": [
        "# Ans no 6:-\n",
        "def func(a, b, c):\n",
        "    a = 2; b[0] = 'x'; c['a'] = 'y'\n",
        "\n",
        "l=1; m=[1]; n={'a':0}\n",
        "func(l, m, n)\n",
        "\n",
        "l, m, n\n",
        "#  Here in the code, the list and dict are passed as argument, and those are mutable. Here the list l and parameter b point\n",
        "# to the same list in the memory location where as dict n and c point to the same memory location. Any updates to this\n",
        "# list will update in the memory location\n",
        "\n",
        "#l = 1 , integer values, immutable, m is list, mutable, n is dict, mutable."
      ],
      "metadata": {
        "colab": {
          "base_uri": "https://localhost:8080/"
        },
        "id": "4unpaH5-SlnK",
        "outputId": "70f9f309-9d91-44fc-c64d-943489701e0b"
      },
      "execution_count": 7,
      "outputs": [
        {
          "output_type": "execute_result",
          "data": {
            "text/plain": [
              "(1, ['x'], {'a': 'y'})"
            ]
          },
          "metadata": {},
          "execution_count": 7
        }
      ]
    },
    {
      "cell_type": "code",
      "source": [],
      "metadata": {
        "id": "6yceu9K1TSka"
      },
      "execution_count": null,
      "outputs": []
    }
  ]
}