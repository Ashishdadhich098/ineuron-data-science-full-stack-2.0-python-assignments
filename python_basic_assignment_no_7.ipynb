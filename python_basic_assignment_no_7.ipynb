{
  "nbformat": 4,
  "nbformat_minor": 0,
  "metadata": {
    "colab": {
      "provenance": []
    },
    "kernelspec": {
      "name": "python3",
      "display_name": "Python 3"
    },
    "language_info": {
      "name": "python"
    }
  },
  "cells": [
    {
      "cell_type": "code",
      "execution_count": null,
      "metadata": {
        "id": "84GPO_KbeLOr"
      },
      "outputs": [],
      "source": [
        "# Ans no 1:-The feature responsible for generating Regex objects in Python is called the \"re\" module, which stands for regular expressions.\n",
        "#           The \"re\" module provides functions and methods to work with regular expressions in Python, including the ability to create Regex objects."
      ]
    },
    {
      "cell_type": "code",
      "source": [
        "# Ans no 2:- Raw strings are often used in Regex objects to handle backslashes () effectively. In regular expressions, backslashes have special meaning\n",
        "#            as escape characters.\n",
        "#            By using a raw string (prefixed with an 'r'), backslashes are treated as literal characters rather than escape characters."
      ],
      "metadata": {
        "id": "_UFdIUeKt_40"
      },
      "execution_count": null,
      "outputs": []
    },
    {
      "cell_type": "code",
      "source": [
        "# Ans no 3:-The search() method of a Regex object in Python returns a match object if a match is found in the input string. If no match is found,\n",
        "#           it returns None."
      ],
      "metadata": {
        "id": "JkQJFHAjuvZW"
      },
      "execution_count": null,
      "outputs": []
    },
    {
      "cell_type": "code",
      "source": [
        "# Ans no 4:- To get the actual strings that match the pattern from a 'Match' object in Python, we can use the 'group()' method.\n",
        "#            The 'group()' method of a 'Match' object returns the substring that matches the entire pattern."
      ],
      "metadata": {
        "id": "MOnDsWvDv9iE"
      },
      "execution_count": null,
      "outputs": []
    },
    {
      "cell_type": "code",
      "source": [
        "# Ans no 5:- In the regular expression created from r'(\\d\\d\\d)-(\\d\\d\\d-\\d\\d\\d\\d)', the group zero ('group(0)') covers the entire matched string.\n",
        "#            Group 1 ('group(1)') covers the first capturing group (\\d\\d\\d), which matches a sequence of three digits.\n",
        "#            Group 2 ('group(2)') covers the second capturing group (\\d\\d\\d-\\d\\d\\d\\d), which matches a sequence of three digits followed by a hyphen\n",
        "#            and another sequence of four digits."
      ],
      "metadata": {
        "id": "uG6PT71Jxpzz"
      },
      "execution_count": null,
      "outputs": []
    },
    {
      "cell_type": "code",
      "source": [
        "# Ans no 6:-In regular expression syntax, parentheses and periods have special meanings as metacharacters. To indicate that we want to match literal\n",
        "#            parentheses and periods in a regex pattern, you can use the backslash \\ to escape them.\n",
        "#            To match a literal opening parenthesis '(', you can use '\\('.\n",
        "#            To match a literal closing parenthesis ')', you can use '\\)'."
      ],
      "metadata": {
        "id": "UNPAN9ej4wpD"
      },
      "execution_count": 1,
      "outputs": []
    },
    {
      "cell_type": "code",
      "source": [
        "# Ans no 7:- If the regular expression pattern contains capturing groups (defined using parentheses), 'findall()' returns a list of string tuples.\n",
        "#            If the regular expression pattern does not contain any capturing groups, 'findall()' returns a list of strings."
      ],
      "metadata": {
        "id": "Ba1EXBugapyH"
      },
      "execution_count": 2,
      "outputs": []
    },
    {
      "cell_type": "code",
      "source": [
        "# Ans no 8:-  the '|' character, known as the pipe or vertical bar, is used to represent the logical OR operation.The '|' character acts as a metacharacter\n",
        "#              that separates multiple patterns. It matches either the pattern on the left side or the pattern on the right side. If any of\n",
        "#              the alternatives match, the overall match is considered successful."
      ],
      "metadata": {
        "id": "LF9njO75bCe9"
      },
      "execution_count": null,
      "outputs": []
    },
    {
      "cell_type": "code",
      "source": [
        "# Ans no 9:- questions is not specifying the character that is being asked or that is stand for."
      ],
      "metadata": {
        "id": "zmzRKHqydHZ7"
      },
      "execution_count": 3,
      "outputs": []
    },
    {
      "cell_type": "code",
      "source": [
        "# Ans no 10:- The '+' character is known as the \"one or more\" quantifier. It indicates that the preceding element must occur at least once but can repeat\n",
        "#             any number of times. In other words, it matches one or more occurrences of the preceding element\n",
        "\n",
        "#.            The '*' character is known as the \"zero or more\" quantifier. It indicates that the preceding element can occur zero or more times. It allows\n",
        "#             for optional occurrences of the preceding element."
      ],
      "metadata": {
        "id": "CwHRytrxenrQ"
      },
      "execution_count": 5,
      "outputs": []
    },
    {
      "cell_type": "code",
      "source": [
        "# Ans no 11:- In regular expressions, the '{4}' and '{4,5}' syntax are used to specify the number of occurrences or repetitions of the preceding\n",
        "#             element or group.\n",
        "\n",
        "#             In '{4}' quantifier it Specifies an exact number of occurrences.Matches the preceding element exactly four times.\n",
        "#             In '{4,5} quantifier it Specifies a range of occurrences.Matches the preceding element between four and five times (inclusive)."
      ],
      "metadata": {
        "id": "6LC885iZgFg9"
      },
      "execution_count": 7,
      "outputs": []
    },
    {
      "cell_type": "code",
      "source": [
        "# Ans no 12:-  '\\d': Represents any digit character. It matches a single digit from 0 to 9.\n",
        "#              '\\w': Represents any word character. It matches a single alphanumeric character (letter or digit) or an underscore (_).\n",
        "#              '\\'s: Represents any whitespace character. It matches a single whitespace character, including spaces, tabs, and newline characters."
      ],
      "metadata": {
        "id": "eO7q0j2Plqv6"
      },
      "execution_count": 8,
      "outputs": []
    },
    {
      "cell_type": "code",
      "source": [
        "# Ans no 13:-  '\\D': Represents any non-digit character. It matches any character that is not a digit (0-9).\n",
        "#              '\\W': Represents any non-word character. It matches any character that is not an alphanumeric character or an underscore (_).\n",
        "#              '\\S': Represents any non-whitespace character. It matches any character that is not a whitespace character (space, tab, newline)."
      ],
      "metadata": {
        "id": "rgsuWECRlVse"
      },
      "execution_count": 10,
      "outputs": []
    },
    {
      "cell_type": "code",
      "source": [
        "# Ans no 14:- '.*?' is a non-greedy or lazy quantifier. It matches as few characters as possible while still allowing the overall pattern to match.\n",
        "#             It performs the match in a minimalistic way. It will stop as soon as the subsequent part of the pattern can be satisfied. The '?' makes\n",
        "#             the '*' quantifier lazy.\n",
        "\n",
        "#              '.*' is a greedy quantifier. It matches as many characters as possible while still allowing the overall pattern to match. It performs the match\n",
        "#               in a maximalistic way. It will continue matching characters until it reaches the end of the string or cannot satisfy the subsequent part\n",
        "#               of the pattern."
      ],
      "metadata": {
        "id": "JVkJ-bS5n8rC"
      },
      "execution_count": 9,
      "outputs": []
    },
    {
      "cell_type": "code",
      "source": [
        " # Ans no 15:- [0-9a-z]\n",
        " #             In this syntax, '[0-9]' matches any digit from 0 to 9, and 'a-z' matches any lowercase letter from a to z. By combining them within the\n",
        " #             square brackets '[ ]', we create a character class that matches either a digit or a lowercase letter."
      ],
      "metadata": {
        "id": "MAZF6D6KqkUa"
      },
      "execution_count": 11,
      "outputs": []
    },
    {
      "cell_type": "code",
      "source": [
        "# Ans no 16:- to make a regular expression case-insensitive in Python, we can use the 're.IGNORECASE' flag or the 're.I' flag as an argument in the\n",
        "#            regex functions."
      ],
      "metadata": {
        "id": "LsirGen8sQyY"
      },
      "execution_count": 12,
      "outputs": []
    },
    {
      "cell_type": "code",
      "source": [
        "# Ans no 17:- The '.' character normally matches any character except the newline character. If re.DOTALL is passed as the second argument to\n",
        "#              re.compile(), then the dot will also match newline characters."
      ],
      "metadata": {
        "id": "fwn6riYRw4Xr"
      },
      "execution_count": 1,
      "outputs": []
    },
    {
      "cell_type": "code",
      "source": [
        "# Ans no 18:- The numRegex.sub'('X', '11 drummers, 10 pipers, five rings, 4 hen')' expression will return the\n",
        "#              string 'X drummers, X pipers, five rings, X hen'."
      ],
      "metadata": {
        "id": "ab2DWb2GLtNs"
      },
      "execution_count": null,
      "outputs": []
    },
    {
      "cell_type": "code",
      "source": [
        "# Ans no 19:- Passing 're.VERBOSE' as the second argument to 're.compile()' allows us to write more readable and organized regular expressions by\n",
        "#             enabling the use of whitespace and comments within the pattern."
      ],
      "metadata": {
        "id": "QfT4Z3gmNORl"
      },
      "execution_count": 2,
      "outputs": []
    },
    {
      "cell_type": "code",
      "source": [
        "# Ans no 20:- re.compile(r'^\\d{1,3}(,\\d{3})*$') will create this regex, but other regex strings can produce a similar regular expression.\n",
        "\n",
        "#            import re\n",
        "#            pattern = r'^\\d{1,3}(,\\d{3})*$'"
      ],
      "metadata": {
        "id": "mWbsKkSTOQYy"
      },
      "execution_count": 4,
      "outputs": []
    },
    {
      "cell_type": "code",
      "source": [
        "# Ans no 21:- we can write a regex pattern to match the full name of someone whose last name is \"Watanabe\" with the 'r'^[A-Z][a-zA-Z]* Watanabe$''\n",
        "#            import re\n",
        "\n",
        "#            pattern = r'^[A-Z][a-zA-Z]* Watanabe$'"
      ],
      "metadata": {
        "id": "e83m7PVpPWkV"
      },
      "execution_count": 5,
      "outputs": []
    },
    {
      "cell_type": "code",
      "source": [
        "# Ans no 22:- we can write a regex pattern to match the described sentence pattern with\n",
        "#              re.compile(r'(Alice|Bob|Carol)\\s(eats|pets|throws)\\s(apples|cats|baseballs)\\.', re.IGNORECASE)"
      ],
      "metadata": {
        "id": "sObtFeBcRlYq"
      },
      "execution_count": 6,
      "outputs": []
    },
    {
      "cell_type": "code",
      "source": [],
      "metadata": {
        "id": "2GLh1d_FS5pa"
      },
      "execution_count": null,
      "outputs": []
    }
  ]
}