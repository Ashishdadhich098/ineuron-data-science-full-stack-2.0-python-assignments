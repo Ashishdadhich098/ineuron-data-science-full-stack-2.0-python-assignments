{
  "nbformat": 4,
  "nbformat_minor": 0,
  "metadata": {
    "colab": {
      "provenance": []
    },
    "kernelspec": {
      "name": "python3",
      "display_name": "Python 3"
    },
    "language_info": {
      "name": "python"
    }
  },
  "cells": [
    {
      "cell_type": "code",
      "execution_count": 1,
      "metadata": {
        "id": "-6hzMDP3FLke",
        "colab": {
          "base_uri": "https://localhost:8080/"
        },
        "outputId": "c4f850d5-baf7-4d49-db32-be7b6e7f47cf"
      },
      "outputs": [
        {
          "output_type": "stream",
          "name": "stdout",
          "text": [
            "Hello,'World'!\n"
          ]
        }
      ],
      "source": [
        "# Ans no 1:-Escape characters are special characters used in strings to represent certain non-printable or special characters.\n",
        "#           They are used to add formatting or represent characters that cannot be directly typed or interpreted in a string literal.\n",
        "#           Escape characters are denoted by a backslash ('\\') followed by a specific character or sequence of characters.\n",
        "\n",
        "#           ex-\n",
        "print('Hello,\\'World\\'!')"
      ]
    },
    {
      "cell_type": "code",
      "source": [
        "# Ans no 2:- '\\n' represents a newline character. When encountered in a string, it creates a line break, moving the cursor to the\n",
        "#              beginning of the next line.\n",
        "#             '\\t' represents a tab character. It is used to insert horizontal tabulation or indentation within a string.\n",
        "\n",
        "#              ex-\n",
        "print(\"This is line 1.\\nThis is line 2.\")\n",
        "print(\"Column 1\\tColumn 2\\tColumn 3\")"
      ],
      "metadata": {
        "colab": {
          "base_uri": "https://localhost:8080/"
        },
        "id": "pRRjdVocGIey",
        "outputId": "347f6166-c197-4f11-dc51-cc14305a1dc6"
      },
      "execution_count": 2,
      "outputs": [
        {
          "output_type": "stream",
          "name": "stdout",
          "text": [
            "This is line 1.\n",
            "This is line 2.\n",
            "Column 1\tColumn 2\tColumn 3\n"
          ]
        }
      ]
    },
    {
      "cell_type": "code",
      "source": [
        "# Ans no 3:-To include a backslash character ('\\') in a string, we can use a double backslash ('\\'\\). The first backslash acts as an escape character,\n",
        "#           indicating that the second backslash should be treated as a literal backslash character.\n",
        "#           ex-\n",
        "print(\"This is a backslash: \\\\\")"
      ],
      "metadata": {
        "colab": {
          "base_uri": "https://localhost:8080/"
        },
        "id": "Y3u4bgviHy_9",
        "outputId": "479a2762-6017-4600-9df3-effb24551c5f"
      },
      "execution_count": 3,
      "outputs": [
        {
          "output_type": "stream",
          "name": "stdout",
          "text": [
            "This is a backslash: \\\n"
          ]
        }
      ]
    },
    {
      "cell_type": "code",
      "source": [
        "# Ans no 4:- The single quote in Howl's is fine because we've used double quotes to mark the beginning and end of the string. so it will not escape\n",
        "#            from the string"
      ],
      "metadata": {
        "id": "EnHG64U-OfcK"
      },
      "execution_count": 4,
      "outputs": []
    },
    {
      "cell_type": "code",
      "source": [
        "# Ans no 5:-Multiline strings allow us to use newlines in strings without the \\n escape character.\n",
        "'''this is first line\n",
        "this is second line\n",
        "this is third line '''"
      ],
      "metadata": {
        "colab": {
          "base_uri": "https://localhost:8080/",
          "height": 35
        },
        "id": "Pks1-6o_QIVd",
        "outputId": "0672f8bd-8d5a-4810-a3b1-b6543bffa688"
      },
      "execution_count": 5,
      "outputs": [
        {
          "output_type": "execute_result",
          "data": {
            "text/plain": [
              "'this is first line \\nthis is second line \\nthis is third line '"
            ],
            "application/vnd.google.colaboratory.intrinsic+json": {
              "type": "string"
            }
          },
          "metadata": {},
          "execution_count": 5
        }
      ]
    },
    {
      "cell_type": "code",
      "source": [
        "# Ans no 6:-\n",
        "'Hello, World!'[1]\n",
        "# this expression retrive the charecter at index 1 from string."
      ],
      "metadata": {
        "colab": {
          "base_uri": "https://localhost:8080/",
          "height": 35
        },
        "id": "kxQXafmDRS02",
        "outputId": "ba771c54-5709-4ddf-e975-db1658936191"
      },
      "execution_count": 10,
      "outputs": [
        {
          "output_type": "execute_result",
          "data": {
            "text/plain": [
              "'e'"
            ],
            "application/vnd.google.colaboratory.intrinsic+json": {
              "type": "string"
            }
          },
          "metadata": {},
          "execution_count": 10
        }
      ]
    },
    {
      "cell_type": "code",
      "source": [
        "'Hello, World!'[0:5]\n",
        "# this expression retrive the substring from 0th to 4th index from string (5th is excluded)"
      ],
      "metadata": {
        "colab": {
          "base_uri": "https://localhost:8080/",
          "height": 35
        },
        "id": "oMFY3YomTLyc",
        "outputId": "3e6c530c-2480-4012-be8f-5c112dad60bf"
      },
      "execution_count": 7,
      "outputs": [
        {
          "output_type": "execute_result",
          "data": {
            "text/plain": [
              "'Hello'"
            ],
            "application/vnd.google.colaboratory.intrinsic+json": {
              "type": "string"
            }
          },
          "metadata": {},
          "execution_count": 7
        }
      ]
    },
    {
      "cell_type": "code",
      "source": [
        "'Hello, World!'[:5]\n",
        "# this expression retrive the substring till 4th index from string (5th is excluded)"
      ],
      "metadata": {
        "colab": {
          "base_uri": "https://localhost:8080/",
          "height": 35
        },
        "id": "aMLPWuuTTN71",
        "outputId": "cf2646ad-5c30-4fab-a053-254443e2fe1c"
      },
      "execution_count": 8,
      "outputs": [
        {
          "output_type": "execute_result",
          "data": {
            "text/plain": [
              "'Hello'"
            ],
            "application/vnd.google.colaboratory.intrinsic+json": {
              "type": "string"
            }
          },
          "metadata": {},
          "execution_count": 8
        }
      ]
    },
    {
      "cell_type": "code",
      "source": [
        "'Hello, World!'[3:]\n",
        "#This expression retrieves a substring from index 3rd to the end of the string."
      ],
      "metadata": {
        "colab": {
          "base_uri": "https://localhost:8080/",
          "height": 35
        },
        "id": "ZEq9TbpVTP2D",
        "outputId": "8cde13e4-c03c-4bc3-c38c-f7989b3cdd8c"
      },
      "execution_count": 9,
      "outputs": [
        {
          "output_type": "execute_result",
          "data": {
            "text/plain": [
              "'lo, World!'"
            ],
            "application/vnd.google.colaboratory.intrinsic+json": {
              "type": "string"
            }
          },
          "metadata": {},
          "execution_count": 9
        }
      ]
    },
    {
      "cell_type": "code",
      "source": [
        "# Ans no 7:-\n",
        "'Hello'.upper()"
      ],
      "metadata": {
        "colab": {
          "base_uri": "https://localhost:8080/",
          "height": 35
        },
        "id": "2hFyy3QEVz-J",
        "outputId": "20315ce4-144d-4a71-da2d-638ad6247a59"
      },
      "execution_count": 11,
      "outputs": [
        {
          "output_type": "execute_result",
          "data": {
            "text/plain": [
              "'HELLO'"
            ],
            "application/vnd.google.colaboratory.intrinsic+json": {
              "type": "string"
            }
          },
          "metadata": {},
          "execution_count": 11
        }
      ]
    },
    {
      "cell_type": "code",
      "source": [
        "'Hello'.upper().isupper()"
      ],
      "metadata": {
        "colab": {
          "base_uri": "https://localhost:8080/"
        },
        "id": "VWgR9pz_Wx1A",
        "outputId": "7f46b229-cd9e-475c-b8d1-48befe63e3da"
      },
      "execution_count": 12,
      "outputs": [
        {
          "output_type": "execute_result",
          "data": {
            "text/plain": [
              "True"
            ]
          },
          "metadata": {},
          "execution_count": 12
        }
      ]
    },
    {
      "cell_type": "code",
      "source": [
        "'Hello'.upper().islower()\n",
        "\n",
        "# 1st expression is converting the 'Hello' string into uppercase by using .upper() .\n",
        "# 2nd expression is checking the condition of written expession that is in uppercase or not by using .isupper() that is true .\n",
        "# 3rd expession is also checking the condition of written expression that is in uppercase or not by using .islower() that is False bcoz .islower() is use\n",
        "#     to check the expession is in lower case and not ."
      ],
      "metadata": {
        "colab": {
          "base_uri": "https://localhost:8080/"
        },
        "id": "VscdszQ2W8xn",
        "outputId": "5b715463-aeee-4139-ea84-b9feacac1a1b"
      },
      "execution_count": 15,
      "outputs": [
        {
          "output_type": "execute_result",
          "data": {
            "text/plain": [
              "False"
            ]
          },
          "metadata": {},
          "execution_count": 15
        }
      ]
    },
    {
      "cell_type": "code",
      "source": [
        "# Ans no 8:-\n",
        "'Remember,remaember,by the fith of july.'.split()"
      ],
      "metadata": {
        "colab": {
          "base_uri": "https://localhost:8080/"
        },
        "id": "NaiH2UViXIzu",
        "outputId": "bc1be156-5566-4298-bde0-eda19c9102d7"
      },
      "execution_count": 16,
      "outputs": [
        {
          "output_type": "execute_result",
          "data": {
            "text/plain": [
              "['Remember,remaember,by', 'the', 'fith', 'of', 'july.']"
            ]
          },
          "metadata": {},
          "execution_count": 16
        }
      ]
    },
    {
      "cell_type": "code",
      "source": [
        "'-'.join('thare can only one.'.split())\n",
        "\n",
        "# 1st expression is evaluated with seperate coma with each word by using .split().\n",
        "# 2nd expression is evaluated with '-' this with each word by using '-'.join to add and by .split() to split the expression ."
      ],
      "metadata": {
        "colab": {
          "base_uri": "https://localhost:8080/",
          "height": 35
        },
        "id": "eOGFbdaSZuxQ",
        "outputId": "e90c6f87-194f-406b-c051-3174829ff56c"
      },
      "execution_count": 17,
      "outputs": [
        {
          "output_type": "execute_result",
          "data": {
            "text/plain": [
              "'thare-can-only-one.'"
            ],
            "application/vnd.google.colaboratory.intrinsic+json": {
              "type": "string"
            }
          },
          "metadata": {},
          "execution_count": 17
        }
      ]
    },
    {
      "cell_type": "code",
      "source": [
        "# Ans no 9:- The rjust(), ljust(), and center() string methods, respectively are used to right-justifying, left-justifying, and centering a string.\n",
        "A = \"Hi\"\n",
        "print(A.rjust(10))   # Right-justified\n",
        "print(A.ljust(10))   # Left-justified\n",
        "print(A.center(10))  # Centered"
      ],
      "metadata": {
        "colab": {
          "base_uri": "https://localhost:8080/"
        },
        "id": "vnjljBOYaE--",
        "outputId": "3f3c4ab8-721e-4024-e93e-d0d604d6695c"
      },
      "execution_count": 19,
      "outputs": [
        {
          "output_type": "stream",
          "name": "stdout",
          "text": [
            "        Hi\n",
            "Hi        \n",
            "    Hi    \n"
          ]
        }
      ]
    },
    {
      "cell_type": "code",
      "source": [
        "# Ans no 10 :-The lstrip() and rstrip() strip() methods remove whitespace from the left and right ends of a string, respectively.\n",
        "A = '  hello  '\n"
      ],
      "metadata": {
        "id": "M5tyeo_Ichoi"
      },
      "execution_count": 26,
      "outputs": []
    },
    {
      "cell_type": "code",
      "source": [
        "A.rstrip()"
      ],
      "metadata": {
        "colab": {
          "base_uri": "https://localhost:8080/",
          "height": 35
        },
        "id": "vMv_BYx0dAfM",
        "outputId": "851b0e20-bd29-4996-c844-fac121c55a5f"
      },
      "execution_count": 27,
      "outputs": [
        {
          "output_type": "execute_result",
          "data": {
            "text/plain": [
              "'  hello'"
            ],
            "application/vnd.google.colaboratory.intrinsic+json": {
              "type": "string"
            }
          },
          "metadata": {},
          "execution_count": 27
        }
      ]
    },
    {
      "cell_type": "code",
      "source": [
        "A.lstrip()"
      ],
      "metadata": {
        "colab": {
          "base_uri": "https://localhost:8080/",
          "height": 35
        },
        "id": "M6gbIFrVdH7e",
        "outputId": "002e32e6-6898-4e35-d441-2974ddc40acf"
      },
      "execution_count": 28,
      "outputs": [
        {
          "output_type": "execute_result",
          "data": {
            "text/plain": [
              "'hello  '"
            ],
            "application/vnd.google.colaboratory.intrinsic+json": {
              "type": "string"
            }
          },
          "metadata": {},
          "execution_count": 28
        }
      ]
    },
    {
      "cell_type": "code",
      "source": [
        "A.strip()"
      ],
      "metadata": {
        "colab": {
          "base_uri": "https://localhost:8080/",
          "height": 35
        },
        "id": "HxX3IKejdy8s",
        "outputId": "189f4a4a-5acb-401f-c30a-6bc055e9ac04"
      },
      "execution_count": 29,
      "outputs": [
        {
          "output_type": "execute_result",
          "data": {
            "text/plain": [
              "'hello'"
            ],
            "application/vnd.google.colaboratory.intrinsic+json": {
              "type": "string"
            }
          },
          "metadata": {},
          "execution_count": 29
        }
      ]
    },
    {
      "cell_type": "code",
      "source": [],
      "metadata": {
        "id": "uoEAzupCd1bx"
      },
      "execution_count": null,
      "outputs": []
    }
  ]
}