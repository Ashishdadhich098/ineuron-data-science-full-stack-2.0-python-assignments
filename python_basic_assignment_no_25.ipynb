{
  "nbformat": 4,
  "nbformat_minor": 0,
  "metadata": {
    "colab": {
      "provenance": []
    },
    "kernelspec": {
      "name": "python3",
      "display_name": "Python 3"
    },
    "language_info": {
      "name": "python"
    }
  },
  "cells": [
    {
      "cell_type": "code",
      "execution_count": 1,
      "metadata": {
        "colab": {
          "base_uri": "https://localhost:8080/"
        },
        "id": "HYZLZ1yDyiZX",
        "outputId": "dc94b2bb-725f-42e8-a8cb-d7abc0ccfcfd"
      },
      "outputs": [
        {
          "output_type": "execute_result",
          "data": {
            "text/plain": [
              "[0, 1, 2, 3, 4, 5, 6, 7, 8, 9]"
            ]
          },
          "metadata": {},
          "execution_count": 1
        }
      ],
      "source": [
        "# Ans no 1:-\n",
        "lst = [i for i in range(10)]\n",
        "lst\n",
        "#List Comprehension with square brackets produces list.\n",
        "#List Comprehension with parenthes"
      ]
    },
    {
      "cell_type": "code",
      "source": [
        "#If we are  familiar with list comprehensions, then this look likes it might create a tuple which is (1,2,3,4,....),\n",
        "#but it is actually a generator expression - this expression is a one time only iterator which will yield the values 1, 2, 3, 4.... in that order\n",
        "\n",
        "lstParanthesis = (i for i in range(10))\n",
        "lstParanthesis"
      ],
      "metadata": {
        "colab": {
          "base_uri": "https://localhost:8080/"
        },
        "id": "94Rr8LfuDUKZ",
        "outputId": "a0754dcb-87a1-4b28-a346-f3da43c07871"
      },
      "execution_count": 2,
      "outputs": [
        {
          "output_type": "execute_result",
          "data": {
            "text/plain": [
              "<generator object <genexpr> at 0x7fd476fe1ee0>"
            ]
          },
          "metadata": {},
          "execution_count": 2
        }
      ]
    },
    {
      "cell_type": "code",
      "source": [
        "list(lstParanthesis)\n",
        "# using square brackets ([]) creates a list object containing all elements immediately, while using parentheses ('()') creates a generator object that\n",
        "# produces elements lazily, on-demand."
      ],
      "metadata": {
        "colab": {
          "base_uri": "https://localhost:8080/"
        },
        "id": "vhyuKt3NDhrO",
        "outputId": "7392bed9-8d06-41f2-e924-77b732b61a40"
      },
      "execution_count": 3,
      "outputs": [
        {
          "output_type": "execute_result",
          "data": {
            "text/plain": [
              "[0, 1, 2, 3, 4, 5, 6, 7, 8, 9]"
            ]
          },
          "metadata": {},
          "execution_count": 3
        }
      ]
    },
    {
      "cell_type": "code",
      "source": [
        "# Ans no 2:- An iterator is an object which contains a countable number of values and it is used to iterate over iterable objects like list, tuples etc\n",
        "#            Using an iterator- iter() keyword is used to create an iterator containing an iterable object. next() keyword is used to call the next element\n",
        "#           in the iterable object.\n",
        "\n",
        "\n",
        "# iterator\n",
        "iter_list = iter(['Dog', 'CAt', 'Bear'])\n",
        "print(next(iter_list))\n",
        "print(next(iter_list))\n",
        "print(next(iter_list))"
      ],
      "metadata": {
        "colab": {
          "base_uri": "https://localhost:8080/"
        },
        "id": "NWkNMnSMEQKf",
        "outputId": "488fde69-a950-4177-e7ae-5a6b9a3f255b"
      },
      "execution_count": 4,
      "outputs": [
        {
          "output_type": "stream",
          "name": "stdout",
          "text": [
            "Dog\n",
            "CAt\n",
            "Bear\n"
          ]
        }
      ]
    },
    {
      "cell_type": "code",
      "source": [
        "#Generator:-It is another way of creating iterators in a simple way where it uses the keyword “yield” instead of returning it in a defined function\n",
        "#           Generators are implemented using a function Here, the yield function returns the data without affecting or exiting the function. It will return\n",
        "#          a sequence of data in an iterable format where we need to iterate over the sequence to use the data as they won’t store the entire sequence in\n",
        "#          the memory By using next() function we can iterate the output of generator function\n",
        "\n",
        "\n",
        "def sq(n):\n",
        "    for i in range(1, n+1):\n",
        "        yield i*i\n",
        "\n",
        "\n",
        "sq(6)\n",
        "\n",
        "lst = sq(6)\n",
        "lst\n",
        "\n",
        "print(next(lst))\n",
        "print(next(lst))\n",
        "print(next(lst))\n",
        "print(next(lst))\n",
        ""
      ],
      "metadata": {
        "colab": {
          "base_uri": "https://localhost:8080/"
        },
        "id": "lvQJ9oDpEoWu",
        "outputId": "5cf1c9cb-6689-42cc-a6f0-3eabd0c5f525"
      },
      "execution_count": 8,
      "outputs": [
        {
          "output_type": "stream",
          "name": "stdout",
          "text": [
            "1\n",
            "4\n",
            "9\n",
            "16\n"
          ]
        }
      ]
    },
    {
      "cell_type": "code",
      "source": [
        "# Ans no 3:-If a function contains at least one yield statement (it may contain other yield or return statements), it becomes a generator function.\n",
        "#           Both yield and return will return some value from a function."
      ],
      "metadata": {
        "id": "Ke8b2AXzFNIF"
      },
      "execution_count": 9,
      "outputs": []
    },
    {
      "cell_type": "code",
      "source": [
        "# Ans no 4:-A yield statement looks much like a return statement, except that instead of stopping execution of the function and\n",
        "#          returning, yield instead provides a value to the code looping over the generator and pauses execution of the generator function."
      ],
      "metadata": {
        "id": "ZEFvhtsLFl6_"
      },
      "execution_count": null,
      "outputs": []
    },
    {
      "cell_type": "code",
      "source": [
        "# Ans no 5:-Map function:Suppose we have a function and we want to compute this function for different values in a single line of code . This is where map()\n",
        "#          function plays its role. map() function returns a map object(which is an iterator) of the results after applying the given function to each item\n",
        "#          of a given iterable (list, tuple etc.)\n",
        "\n",
        "#        If we already have a function defined, it is often good to use map For example, map(sum, myLists) is more neat than [sum(x) for x in myLists]. You\n",
        "#        gain the elegance of not having to make up a dummy variable (e.g. sum(x) for\n",
        "\n",
        "#List Comprehension:List Comprehension is a substitute for the lambda function, map(), filter() and reduce()\n",
        "\n",
        "#Comparision :\n",
        "# List comprehension is more concise and easier to read as compared to map\n",
        "# List comprehension allows filtering. In map, we have no such facility\n",
        "# For example, to print all even numbers in range of 100, we can write [n for n in range(100) if n%2 == 0]. There is no alternate for it in map 3. List\n",
        "# comprehension are used when a list of results is required, where as map only returns a map object and does not return any list. 4. List comprehension is\n",
        "# faster than map when we need to evaluate expressions that are too long or complicated to express 5. Map is faster in case of calling an already defined\n",
        "# function (as no lambda is required).\n"
      ],
      "metadata": {
        "id": "LtaGW8IcGKXP"
      },
      "execution_count": 10,
      "outputs": []
    }
  ]
}