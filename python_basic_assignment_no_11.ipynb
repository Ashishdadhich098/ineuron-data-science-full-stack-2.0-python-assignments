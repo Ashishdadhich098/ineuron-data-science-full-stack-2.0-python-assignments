{
  "nbformat": 4,
  "nbformat_minor": 0,
  "metadata": {
    "colab": {
      "provenance": []
    },
    "kernelspec": {
      "name": "python3",
      "display_name": "Python 3"
    },
    "language_info": {
      "name": "python"
    }
  },
  "cells": [
    {
      "cell_type": "code",
      "execution_count": 2,
      "metadata": {
        "id": "6bHdBOcMt-lO"
      },
      "outputs": [],
      "source": [
        "# Ans no 1:- assert spam >= 0, \"spam should be a non-negative integer\"\n",
        "\n",
        "# In this case, if the value of spam is a negative integer, an AssertionError will be raised with the specified error message \"spam should be a non-negative\n",
        "# integer\". If the condition is True (i.e., spam is non-negative), the assertion will pass silently."
      ]
    },
    {
      "cell_type": "code",
      "source": [
        "# Ans no 2:- assert eggs.lower() != bacon.lower(), 'The eggs and bacon variables are the same!' or assert eggs.upper() != bacon.upper(),\n",
        "#           'The eggs and bacon variables are the same!'"
      ],
      "metadata": {
        "id": "5CW8Z_0evdon"
      },
      "execution_count": 3,
      "outputs": []
    },
    {
      "cell_type": "code",
      "source": [
        "# Ans no 3:- To create an 'assert' statement that throws an 'AssertionError' every time, we can simply use the 'assert' keyword followed by a condition\n",
        "#            that evaluates to 'False'.\n",
        "assert False, \"This is an AssertionError\"\n",
        "#In this case, the condition 'False' will always be evaluated as 'False', triggering the 'AssertionError'.\n"
      ],
      "metadata": {
        "colab": {
          "base_uri": "https://localhost:8080/",
          "height": 217
        },
        "id": "c9xpNSzD8FlA",
        "outputId": "a2c39a93-aa80-41e6-edb5-7d592d25ec4c"
      },
      "execution_count": 4,
      "outputs": [
        {
          "output_type": "error",
          "ename": "AssertionError",
          "evalue": "ignored",
          "traceback": [
            "\u001b[0;31m---------------------------------------------------------------------------\u001b[0m",
            "\u001b[0;31mAssertionError\u001b[0m                            Traceback (most recent call last)",
            "\u001b[0;32m<ipython-input-4-d9961b4854bb>\u001b[0m in \u001b[0;36m<cell line: 3>\u001b[0;34m()\u001b[0m\n\u001b[1;32m      1\u001b[0m \u001b[0;31m# Ans no 3:- To create an 'assert' statement that throws an 'AssertionError' every time, we can simply use the 'assert' keyword followed by a condition\u001b[0m\u001b[0;34m\u001b[0m\u001b[0;34m\u001b[0m\u001b[0m\n\u001b[1;32m      2\u001b[0m \u001b[0;31m#            that evaluates to 'False'.\u001b[0m\u001b[0;34m\u001b[0m\u001b[0;34m\u001b[0m\u001b[0m\n\u001b[0;32m----> 3\u001b[0;31m \u001b[0;32massert\u001b[0m \u001b[0;32mFalse\u001b[0m\u001b[0;34m,\u001b[0m \u001b[0;34m\"This is an AssertionError\"\u001b[0m\u001b[0;34m\u001b[0m\u001b[0;34m\u001b[0m\u001b[0m\n\u001b[0m\u001b[1;32m      4\u001b[0m \u001b[0;31m#In this case, the condition 'False' will always be evaluated as 'False', triggering the 'AssertionError'.\u001b[0m\u001b[0;34m\u001b[0m\u001b[0;34m\u001b[0m\u001b[0m\n",
            "\u001b[0;31mAssertionError\u001b[0m: This is an AssertionError"
          ]
        }
      ]
    },
    {
      "cell_type": "code",
      "source": [
        "# Ans no 4:-\n",
        "import logging\n",
        "logging.basicConfig(level=logging.DEBUG, format='%(asctime)s - %(levelname)s - %(message)s')\n",
        "\n",
        "#The first line imports the 'logging' module, which provides the logging functions and classes. The second line sets up the logging configuration.\n",
        "#The 'basicConfig()' function is used to specify the logging level (in this case, 'DEBUG') and the log message format."
      ],
      "metadata": {
        "id": "5KVl3CvY9eUZ"
      },
      "execution_count": 5,
      "outputs": []
    },
    {
      "cell_type": "code",
      "source": [
        "# Ans no 5:- To be able to send logging messages to a file named programLog.txt with logging.debug(), you must have these two lines at the start of the\n",
        "#            program:-\n",
        "\n",
        "import logging\n",
        "logging.basicConfig(filename='programLog.txt', level=logging.DEBUG,\n",
        "format=' %(asctime)s - %(levelname)s - %(message)s')"
      ],
      "metadata": {
        "id": "Bo6KTMk_HRNe"
      },
      "execution_count": 7,
      "outputs": []
    },
    {
      "cell_type": "code",
      "source": [
        "# Ans no 6:-DEBUG, INFO, WARNING, ERROR, and CRITICAL these are the five levels of logging ."
      ],
      "metadata": {
        "id": "1hBxXzpYIKFN"
      },
      "execution_count": 8,
      "outputs": []
    },
    {
      "cell_type": "code",
      "source": [
        "# Ans no 7:-logging.disable(logging.CRITICAL) will we use to all logging messages."
      ],
      "metadata": {
        "id": "LKUwKpYxKwOa"
      },
      "execution_count": 9,
      "outputs": []
    },
    {
      "cell_type": "code",
      "source": [
        "# Ans no 8:-we can disable logging messages without removing the logging function calls. we can selectively disable lower-level logging messages.\n",
        "#           we can create logging messages. Logging messages provides a timestamp."
      ],
      "metadata": {
        "id": "xCDxkqixLgyP"
      },
      "execution_count": 10,
      "outputs": []
    },
    {
      "cell_type": "code",
      "source": [
        "# Ans no 9:-Step Over: The Step Over button allows us to execute the current line of code and move to the next line. If the current line contains a\n",
        "#           function call, the debugger will execute the entire function without stepping into it. This means that the function is treated as a single step,\n",
        "#           and the debugger will move to the next line after the function call returns.\n",
        "\n",
        "#           Step In: The Step In button allows us to step into the next line of code, even if it is a function call. If the current line contains a\n",
        "#          function call, the debugger will pause and switch to the first line of code inside that function, allowing us to step through the function\n",
        "#           line by line. This is useful when we want to debug the internals of a specific function and understand how it behaves.\n",
        "\n",
        "#          Step In: The Step In button allows us to step into the next line of code, even if it is a function call. If the current line contains a\n",
        "#          function call, the debugger will pause and switch to the first line of code inside that function, allowing us to step through the function line\n",
        "#          by line. This is useful when we want to debug the internals of a specific function and understand how it behaves."
      ],
      "metadata": {
        "id": "VE_ouiuCMLVn"
      },
      "execution_count": 11,
      "outputs": []
    },
    {
      "cell_type": "code",
      "source": [
        "# Ans no 10:- the debugger will continue executing the program after clicking \"Continue\" until it encounters a breakpoint, an unhandled exception, or\n",
        "#             reaches the end of the program."
      ],
      "metadata": {
        "id": "-uzUl5sJN0A_"
      },
      "execution_count": 12,
      "outputs": []
    },
    {
      "cell_type": "code",
      "source": [
        "# Ans no 11:-In programming, a breakpoint is a designated point in the source code where program execution pauses temporarily, allowing the developer to\n",
        "#         inspect the program's state, variables, and other relevant information. It is a debugging tool used to gain better insights into the program's\n",
        "#         behavior and to locate and fix issues."
      ],
      "metadata": {
        "id": "45BV-OEMOnKv"
      },
      "execution_count": 13,
      "outputs": []
    }
  ]
}