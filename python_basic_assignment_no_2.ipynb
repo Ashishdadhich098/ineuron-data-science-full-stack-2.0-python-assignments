{
  "nbformat": 4,
  "nbformat_minor": 0,
  "metadata": {
    "colab": {
      "provenance": []
    },
    "kernelspec": {
      "name": "python3",
      "display_name": "Python 3"
    },
    "language_info": {
      "name": "python"
    }
  },
  "cells": [
    {
      "cell_type": "code",
      "execution_count": null,
      "metadata": {
        "id": "dud1ytCN1CH5"
      },
      "outputs": [],
      "source": [
        "# Ans no 1:- there are two values of boolean data type that True and False .the first latter of the the bolean data is writen in uppercase and rest of latters\n",
        "#            are written in lower case.\n",
        "#           ex- True and False"
      ]
    },
    {
      "cell_type": "code",
      "source": [
        "# Ans no 2:- the three boolean operators are AND,OR,NOT."
      ],
      "metadata": {
        "id": "lyoLaP8bDq16"
      },
      "execution_count": null,
      "outputs": []
    },
    {
      "cell_type": "code",
      "source": [
        "# Ans no 3:- boolean operators truth tables\n",
        "#            AND operator :- True and False = False\n",
        "#                            False and True = False\n",
        "#                            True and True  = True\n",
        "#                            False and False = False\n",
        "\n",
        "#           OR operator :- True or False = True\n",
        "#                          False or True = True\n",
        "#                          True or True = True\n",
        "#                          False or False = False\n",
        "\n",
        "#           Not operator :- Not True = False\n",
        "#                           Not False = True"
      ],
      "metadata": {
        "id": "mfUd4tSGPCe1"
      },
      "execution_count": null,
      "outputs": []
    },
    {
      "cell_type": "code",
      "source": [
        "# Ans no 4:- (5>4) and (3==5) True and False = False\n",
        "#             not (5>4) 5>4 but NOT negetes =  False\n",
        "#             (5>4) or (3 == 5) True or False = True\n",
        "#             not ((5>4) or(3==5)) not nagetes = False\n",
        "#             (True and True)and(True == False)= False\n",
        "#             (not False) or (not True) True or False= True"
      ],
      "metadata": {
        "id": "BwYUHcYQb5GG"
      },
      "execution_count": null,
      "outputs": []
    },
    {
      "cell_type": "code",
      "source": [
        "# Ans no 5:-  comparision operators are (==) equal to  , (!=) not equal to , (>) greater than , (<) smaller than , (<=) less than equal to , (>=)\n",
        "#                                        greater than equal to ."
      ],
      "metadata": {
        "id": "xi66wSRFg0-1"
      },
      "execution_count": null,
      "outputs": []
    },
    {
      "cell_type": "code",
      "source": [
        "# Ans no 6:-  diffence between equals to and equal operator :-== is the equal to operator that compares two values and evaluates to a Boolean,\n",
        "#             while = is the assignment operator that stores a value in a variable.\n",
        "#             ex- (A==B) in this value of A is comparining with value of B .\n",
        "#                 (A=B)  in this the value of variable A is B."
      ],
      "metadata": {
        "id": "3iJkEuyyiQ8M"
      },
      "execution_count": null,
      "outputs": []
    },
    {
      "cell_type": "code",
      "source": [
        "# Ans no 7:- there are 3 different blocks in this based on indentation in between the if and else statements\n",
        "#            block 1:- if spam == 10:\n",
        "#                          print('egges')  #this block is one line of code that is an conditional statement .\n",
        "\n",
        "#            block 2:- if spam>5:\n",
        "#                         print(\"bacon\")  # this block is also one line of code that is an conditionl statement .\n",
        "\n",
        "#            block 3:- else:\n",
        "#                           print('ham')\n",
        "#                           print('spam')\n",
        "#                           print('spam') # this block is 3 line of code that is conditional statement it will execute when if condition will not meet."
      ],
      "metadata": {
        "id": "qHDk3vfHjl_M"
      },
      "execution_count": null,
      "outputs": []
    },
    {
      "cell_type": "code",
      "source": [
        "# Ans no 8:-\n",
        "if 'spam'==1:\n",
        "  print('hello')\n",
        "elif 'spam'==2:\n",
        "  print('howdy')\n",
        "\n",
        "else:\n",
        "  print(\"greeting! \")"
      ],
      "metadata": {
        "colab": {
          "base_uri": "https://localhost:8080/"
        },
        "id": "9FK2bdpv_2tt",
        "outputId": "d3d28f85-149e-4771-b767-ad07fb2f8dc0"
      },
      "execution_count": null,
      "outputs": [
        {
          "output_type": "stream",
          "name": "stdout",
          "text": [
            "greeting! \n"
          ]
        }
      ]
    },
    {
      "cell_type": "code",
      "source": [
        "# Ans no 9:- if the programe will stuck in endless loop will  Press CTRL-C to stop a program stuck in an infinite loop."
      ],
      "metadata": {
        "id": "vIQl_J7UBL0a"
      },
      "execution_count": null,
      "outputs": []
    },
    {
      "cell_type": "code",
      "source": [
        "# Ans no 10:- The break statement will move the execution outside and just after a loop.\n",
        "#             The continue statement will move the execution to the start of the loop."
      ],
      "metadata": {
        "id": "ExhSGdYAVErS"
      },
      "execution_count": null,
      "outputs": []
    },
    {
      "cell_type": "code",
      "source": [
        "# Ans no 11:- They all do the same thing. The range(10) call ranges from 0 up to (but not including) 10,\n",
        "#              range(0, 10) explicitly tells the loop to start at 0, and\n",
        "#              range(0, 10, 1) explicitly tells the loop to increase the variable by 1 on each iteration."
      ],
      "metadata": {
        "id": "wBfZbzZsV7jZ"
      },
      "execution_count": null,
      "outputs": []
    },
    {
      "cell_type": "code",
      "source": [
        "# Ans no 12:-\n",
        "for i in range (0,11):\n",
        "   print(i)\n",
        "\n",
        "# or\n",
        "\n",
        "   i=1\n",
        "while i<=10:\n",
        "  print(i)\n",
        "  i=i+1\n",
        "\n"
      ],
      "metadata": {
        "id": "CBVo-QaJY6XO"
      },
      "execution_count": null,
      "outputs": []
    },
    {
      "cell_type": "code",
      "source": [
        "# Ans no 13:-import spam\n",
        "#             spam.bacon() by this way we can call the function by importing ."
      ],
      "metadata": {
        "id": "ghDZHboSZyE8"
      },
      "execution_count": null,
      "outputs": []
    }
  ]
}