{
  "nbformat": 4,
  "nbformat_minor": 0,
  "metadata": {
    "colab": {
      "provenance": []
    },
    "kernelspec": {
      "name": "python3",
      "display_name": "Python 3"
    },
    "language_info": {
      "name": "python"
    }
  },
  "cells": [
    {
      "cell_type": "code",
      "execution_count": null,
      "metadata": {
        "id": "1Ktw4GTkUe_s"
      },
      "outputs": [],
      "source": [
        "# Ans no 1:- def statements are used to define regular named functions with multiple statements and complex logic, while lambda expressions are used to\n",
        "#           create anonymous functions with a concise syntax, limited to single expressions.\n"
      ]
    },
    {
      "cell_type": "code",
      "source": [
        "# Ans no 2:-Fewer Lines of Code\n",
        "# Lambda functions are inline functions and thus execute comparatively faster Many times lambda functions make code much more readable by avoiding the\n",
        "# logical jumps caused by function calls."
      ],
      "metadata": {
        "id": "OX09pNvoprfN"
      },
      "execution_count": 1,
      "outputs": []
    },
    {
      "cell_type": "code",
      "source": [
        "# Ans no 3:- map applies as a transformation to an element.\n",
        "#            #The map() function iterates through all items in the given iterable and executes the function we passed as an argument on each of them.\n",
        "#            Syntax : map(function, iterable(s))\n",
        "\n",
        "#      filter accumulates only elements matching a condition.filter() forms a new list that contains only elements that satisfy a certain condition,\n",
        "#      i.e. the function we passed returns True Syntax : filter(function, iterable(s))\n",
        "\n",
        "#      reduce accumulates all elements to a single value, by using immutable values\n",
        "#      reduce() works by calling the function we passed for the first two items in the sequence. The result returned by the function is used in another\n",
        "#      call to function alongside with the next (third in this case), element Syntax : reduce(function, sequence[, initial])\n",
        "\n",
        "\n",
        "### Map functions\n",
        "Animal = [\"Anteater\", \"Dog\", \"Elephant\", \"Giraffe\", \"Cat\"]\n",
        "map_object = map(lambda s: s[0] == \"A\", Animal)\n",
        "\n",
        "\n",
        "for i in map_object:\n",
        "    print(i)"
      ],
      "metadata": {
        "colab": {
          "base_uri": "https://localhost:8080/"
        },
        "id": "6nhAf8Ixqwu7",
        "outputId": "7bec9a34-8799-47f8-dc8e-14ff12f9d3a6"
      },
      "execution_count": 3,
      "outputs": [
        {
          "output_type": "stream",
          "name": "stdout",
          "text": [
            "True\n",
            "False\n",
            "False\n",
            "False\n",
            "False\n"
          ]
        }
      ]
    },
    {
      "cell_type": "code",
      "source": [
        "### Filter function\n",
        "Animal = [\"Anteater\", \"Dog\", \"Elephant\", \"Giraffe\", \"Cat\"]\n",
        "filter_object = filter(lambda s: s[0] == \"A\", Animal)\n",
        "\n",
        "for i in filter_object:\n",
        "    print(i)"
      ],
      "metadata": {
        "colab": {
          "base_uri": "https://localhost:8080/"
        },
        "id": "dWIbl5JKsGhF",
        "outputId": "3c859747-97f7-40ea-d436-99f18032b623"
      },
      "execution_count": 4,
      "outputs": [
        {
          "output_type": "stream",
          "name": "stdout",
          "text": [
            "Anteater\n"
          ]
        }
      ]
    },
    {
      "cell_type": "code",
      "source": [
        "### Reduce function\n",
        "from functools import reduce\n",
        "\n",
        "list = [4, 3, 8, 3]\n",
        "print(reduce(lambda x, y: x + y, list))\n",
        "print(\"With an initial value: \" + str(reduce(lambda x, y: x + y, list, 10)))"
      ],
      "metadata": {
        "colab": {
          "base_uri": "https://localhost:8080/"
        },
        "id": "rzHQDVNEsRIC",
        "outputId": "a3c564f8-6f1b-4732-e544-74e6d9b0ec04"
      },
      "execution_count": 5,
      "outputs": [
        {
          "output_type": "stream",
          "name": "stdout",
          "text": [
            "18\n",
            "With an initial value: 28\n"
          ]
        }
      ]
    },
    {
      "cell_type": "code",
      "source": [
        "# Ans no 4:-Function annotation is the standard way to access the metadata with the arguments and the return value of the function.\n",
        "#           These are nothing but some random and optional Python expressions that get allied to different parts of the function. They get evaluated only\n",
        "#           during the compile-time and have no significance during the run-time of the code. They do not have any significance or meaning associated with\n",
        "#          them until accessed by some third-party libraries. They are used to type check the functions by declaring the type of the parameters and the\n",
        "#          return value for the functions. The string-based annotations help us to improve the help messages.\n",
        "\n",
        "#Syntax :\n",
        "\n",
        "# def func(a: 'int') -> 'int':\n",
        "# pass\n",
        "# Annotations for simple parameters:\n",
        "\n",
        "# def func(x: 'float'=10.8, y: 'argument2'):\n",
        "# In the above code the argument, ‘x’ of the function func, has been annotated to float data type and the argument ‘y’ has a string-based annotation.\n",
        "#The argument can also be assigned to a default value using a ‘=’ symbol followed by the default value. These default values are optional to the code.\n",
        "# Annotations for return values:\n",
        "\n",
        "# def func(a: expression) -> 'int':\n",
        "# The annotations for the return value is written after the ‘->’ symbol."
      ],
      "metadata": {
        "id": "il0adLPjscyK"
      },
      "execution_count": 7,
      "outputs": []
    },
    {
      "cell_type": "code",
      "source": [
        "def fib(n:'float', b:'int')-> 'result':\n",
        "    pass\n",
        "print(fib.__annotations__)"
      ],
      "metadata": {
        "colab": {
          "base_uri": "https://localhost:8080/"
        },
        "id": "EiSwGO8btbgi",
        "outputId": "d1794696-6cc2-40c1-be68-f1835df75011"
      },
      "execution_count": 8,
      "outputs": [
        {
          "output_type": "stream",
          "name": "stdout",
          "text": [
            "{'n': 'float', 'b': 'int', 'return': 'result'}\n"
          ]
        }
      ]
    },
    {
      "cell_type": "code",
      "source": [
        "# Ans no 5:-\n",
        "# A recursive function is a function that calls itself during its execution.\n",
        "# This means that the function will continue to call itself and repeat its behavior until some condition is met to return a result.\n"
      ],
      "metadata": {
        "id": "NEfr4IOYtb_0"
      },
      "execution_count": 9,
      "outputs": []
    },
    {
      "cell_type": "code",
      "source": [
        "# eg\n",
        "def fact(x):\n",
        "    if x == 1 :\n",
        "        return 1\n",
        "    else :\n",
        "        return x * fact(x-1) # recurtion\n",
        "\n",
        "fact(3)\n",
        ""
      ],
      "metadata": {
        "colab": {
          "base_uri": "https://localhost:8080/"
        },
        "id": "K0zlmd5sxR6h",
        "outputId": "82596f33-8736-46d2-8f4e-51c0d9eddec8"
      },
      "execution_count": 10,
      "outputs": [
        {
          "output_type": "execute_result",
          "data": {
            "text/plain": [
              "6"
            ]
          },
          "metadata": {},
          "execution_count": 10
        }
      ]
    },
    {
      "cell_type": "code",
      "source": [
        "# Ans no 6:-Use 4-space indentation and no tabs.\n",
        "# Use docstrings\n",
        "# Wrap linethat they don’t exceed 79 characters\n",
        "# Use of regular and updated comments are valuable to both the coders and users\n",
        "# Use of trailing commas : in case of tuple -> ('good',)\n",
        "# Use Python’s default UTF-8 or ASCII encodings and not any fancy encodings\n",
        "# Naming Conventions\n",
        "# Characters that should not be used for identifiers : ‘l’ (lowercase letter el), ‘O’ (uppercase letter oh), ‘I’ (uppercase letter eye) as single\n",
        "# character variable names as these are similar to the numerals one and zero.\n",
        "# Don’t use non-ASCII characters in identifiers\n",
        "# Name your classes and functions consistently\n",
        "# While naming of function of methods always use self for the first argument"
      ],
      "metadata": {
        "id": "1cOfL05_xWOz"
      },
      "execution_count": 11,
      "outputs": []
    },
    {
      "cell_type": "code",
      "source": [
        "# Ans no 7:-\n",
        "# Function can return single value\n",
        "# Can return multiple values, tuple\n",
        "# can return list,dictionary\n",
        "# can return function object\n",
        "# can return class object"
      ],
      "metadata": {
        "id": "fvE3fDKFyOLm"
      },
      "execution_count": 12,
      "outputs": []
    }
  ]
}