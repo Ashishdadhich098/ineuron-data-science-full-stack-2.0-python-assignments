{
  "nbformat": 4,
  "nbformat_minor": 0,
  "metadata": {
    "colab": {
      "provenance": [],
      "toc_visible": true
    },
    "kernelspec": {
      "name": "python3",
      "display_name": "Python 3"
    },
    "language_info": {
      "name": "python"
    }
  },
  "cells": [
    {
      "cell_type": "code",
      "execution_count": null,
      "metadata": {
        "id": "6sW5vluUwGxu"
      },
      "outputs": [],
      "source": [
        "# Ans no 1:-The 'shutil.copy()' and 'shutil.copytree()' functions in Python's shutil module are used to perform file and directory copying operations,\n",
        "#           respectively.\n",
        "# shutil.copy():-It is used to copy a single file from a source location to a destination location.The source can be a file or a directory, but only the\n",
        "#                specified file will be copied.If the destination is an existing file, it will be overwritten.The function returns the path to the newly\n",
        "#                created copy of the file.\n",
        "\n",
        "# shutil.copytree():-It is used to recursively copy an entire directory tree from a source directory to a destination directory.Both the source and\n",
        "#                    destination must be directory paths.All files and directories within the source directory, including subdirectories and their contents,\n",
        "#                    will be copied to the destination directory.If the destination directory already exists, an error will be raised unless the\n",
        "#                    'ignore_errors' parameter is set to 'True'.The function returns the path to the newly created copy of the directory tree."
      ]
    },
    {
      "cell_type": "code",
      "source": [
        "# Ans no 2:- The 'os.rename()' function is used to rename files in Python. It is part of the built-in os module. The 'os.rename()' function takes two\n",
        "#             arguments: the current name of the file (including the path) and the new name you want to give to the file (including the path if\n",
        "#             we want to move it to a different directory).\n",
        "\n",
        "#             os.rename() function can also be used to move a file to a different directory by providing a new path as the second argument."
      ],
      "metadata": {
        "id": "yqMNE2DE0MfI"
      },
      "execution_count": null,
      "outputs": []
    },
    {
      "cell_type": "code",
      "source": [
        "# Ans no 3:- The 'send2trash' module provides a 'send2trash()' function, which sends files or directories to the system's trash or recycle bin\n",
        "#            instead of permanently deleting them.\n",
        "\n",
        "#            the 'shutil' module provides a 'shutil.rmtree()' function to remove an entire directory tree, including all its files and subdirectories.\n",
        "#            This function recursively deletes all the files and directories within the specified directory."
      ],
      "metadata": {
        "id": "YVsGL2C94sbK"
      },
      "execution_count": null,
      "outputs": []
    },
    {
      "cell_type": "code",
      "source": [
        "# Ans no 4:-The zipfile.ZipFile() function is equivalent to the open() function; the first argument is the filename, and the second argument is the\n",
        "#           mode to open the ZIP file in (read, write, or append)."
      ],
      "metadata": {
        "id": "RatBS5PG5nSQ"
      },
      "execution_count": null,
      "outputs": []
    },
    {
      "cell_type": "code",
      "source": [
        "# Ans no 5:-\n",
        "\n",
        "import os\n",
        "import shutil\n",
        "def copy_files_by_extension(source_folder, destination_folder, file_extension):\n",
        "\n",
        " if not os.path.exists(destination_folder):\n",
        "        os.makedirs(destination_folder)\n",
        " for root, dirs, files in os.walk(source_folder):\n",
        "        for file in files:\n",
        "            if file.endswith(file_extension):\n",
        "                source_path = os.path.join(root, file)\n",
        "                destination_path = os.path.join(destination_folder, file)\n",
        "                shutil.copy2(source_path, destination_path)\n",
        "                print(f\"Copied {source_path} to {destination_path}\")\n",
        "source_folder = \"path/to/source/folder\"\n",
        "destination_folder = \"path/to/destination/folder\"\n",
        "file_extension = \".pdf\"\n",
        "\n",
        "copy_files_by_extension(source_folder, destination_folder, file_extension)\n"
      ],
      "metadata": {
        "id": "wNN8lMZ665ml"
      },
      "execution_count": null,
      "outputs": []
    }
  ]
}