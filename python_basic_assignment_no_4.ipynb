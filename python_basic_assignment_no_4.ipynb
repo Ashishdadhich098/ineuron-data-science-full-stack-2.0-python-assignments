{
  "nbformat": 4,
  "nbformat_minor": 0,
  "metadata": {
    "colab": {
      "provenance": []
    },
    "kernelspec": {
      "name": "python3",
      "display_name": "Python 3"
    },
    "language_info": {
      "name": "python"
    }
  },
  "cells": [
    {
      "cell_type": "code",
      "execution_count": null,
      "metadata": {
        "id": "bFm91ir5BuCP"
      },
      "outputs": [],
      "source": [
        "# Ans no 1:- In python ,this sign [] indicates the list that is an empty list .list is a collection and sequence of items in it .\n",
        "#              ex-[1,'hi',22.5, 999]"
      ]
    },
    {
      "cell_type": "code",
      "source": [
        "# Ans no 2:-\n",
        "spam = [2,4,6,8,10]\n",
        "\n",
        "spam[2]"
      ],
      "metadata": {
        "colab": {
          "base_uri": "https://localhost:8080/"
        },
        "id": "PYl60by-FINd",
        "outputId": "66fcdbd1-d433-4d25-b1b5-12cd83469dd6"
      },
      "execution_count": null,
      "outputs": [
        {
          "output_type": "execute_result",
          "data": {
            "text/plain": [
              "6"
            ]
          },
          "metadata": {},
          "execution_count": 14
        }
      ]
    },
    {
      "cell_type": "code",
      "source": [
        "spam[2]=\"hello\"\n",
        "\n",
        "spam[2]\n",
        "\n",
        "spam\n",
        "\n",
        "# spam is a varible that is holding the values in the list assigned by operator .i.e [2,4,6,8,10] for replacing the 3rd value in the list we use indexing\n",
        "# so the 3rd value of the list is at 2nd index .by reassigning the value of 2nd index by 'hello' we will get the output."
      ],
      "metadata": {
        "colab": {
          "base_uri": "https://localhost:8080/"
        },
        "id": "QW-4JWb7FltW",
        "outputId": "d6d798f4-90e3-40ba-f25c-d21435067ac7"
      },
      "execution_count": null,
      "outputs": [
        {
          "output_type": "execute_result",
          "data": {
            "text/plain": [
              "[2, 4, 'hello', 8, 10]"
            ]
          },
          "metadata": {},
          "execution_count": 18
        }
      ]
    },
    {
      "cell_type": "code",
      "source": [
        "# Ans no 3:-\n",
        "spam=['a','b','c','d']\n",
        "\n",
        "spam[int(int('3'*2)/11)]\n",
        "\n",
        "#the value of spam[int('3'*2)/11] is d.  '3' * 2 is the string '33', which is passed to int() before being divided by 11. This eventually evaluates to 3.\n",
        "# so 3 index value of the list is d."
      ],
      "metadata": {
        "colab": {
          "base_uri": "https://localhost:8080/",
          "height": 35
        },
        "id": "jfd-wFsSI0eW",
        "outputId": "ebb1144d-14ce-44b1-8bb3-b47347ec7fef"
      },
      "execution_count": null,
      "outputs": [
        {
          "output_type": "execute_result",
          "data": {
            "text/plain": [
              "'d'"
            ],
            "application/vnd.google.colaboratory.intrinsic+json": {
              "type": "string"
            }
          },
          "metadata": {},
          "execution_count": 24
        }
      ]
    },
    {
      "cell_type": "code",
      "source": [
        "# Ans no 4 :-\n",
        "spam[-1]\n",
        "\n",
        "# d is the value of spam[-1].in reverse order of indexing [-1] is considerded as the last value of indexing of the list i.e. d ."
      ],
      "metadata": {
        "colab": {
          "base_uri": "https://localhost:8080/",
          "height": 35
        },
        "id": "6fkmZPZrMx4M",
        "outputId": "8dffe619-59d1-4815-f807-80119839bca7"
      },
      "execution_count": null,
      "outputs": [
        {
          "output_type": "execute_result",
          "data": {
            "text/plain": [
              "'d'"
            ],
            "application/vnd.google.colaboratory.intrinsic+json": {
              "type": "string"
            }
          },
          "metadata": {},
          "execution_count": 26
        }
      ]
    },
    {
      "cell_type": "code",
      "source": [
        "# Ans no 5 :-\n",
        "spam[:2]\n",
        "\n",
        "# ['a','b'] is the value of spam[:2].in indexing [:2] means indexing start from 0th index and upto 2nd index except the 2nd index value .here 0th index\n",
        "#  value is 'a' and 1st index value is 'b' ."
      ],
      "metadata": {
        "colab": {
          "base_uri": "https://localhost:8080/"
        },
        "id": "VSaiIZ4wKejL",
        "outputId": "172fc8a8-3185-48af-983c-4c666c55c6a7"
      },
      "execution_count": null,
      "outputs": [
        {
          "output_type": "execute_result",
          "data": {
            "text/plain": [
              "['a', 'b']"
            ]
          },
          "metadata": {},
          "execution_count": 27
        }
      ]
    },
    {
      "cell_type": "code",
      "source": [
        "# Ans no 6:-\n",
        "bacon = [3.14,'cat',11,'cat',True]\n",
        "bacon.index('cat')\n",
        "\n",
        "# bacon.index('cat') has 1st index value ,because in a list if a same type of the data type is given at twice in  the list then the index of that\n",
        "# data type is consider the 1st written value of that data type .here 'cat' is at 1st and 3rd index so it will give the 1st index if we ask\n",
        "# index of the cat."
      ],
      "metadata": {
        "colab": {
          "base_uri": "https://localhost:8080/"
        },
        "id": "UmYil95yN3jn",
        "outputId": "23d5b7bd-c3da-49a5-b35e-64619fb823ca"
      },
      "execution_count": null,
      "outputs": [
        {
          "output_type": "execute_result",
          "data": {
            "text/plain": [
              "1"
            ]
          },
          "metadata": {},
          "execution_count": 40
        }
      ]
    },
    {
      "cell_type": "code",
      "source": [
        "# Ans no 7:-\n",
        "bacon.append(99)\n",
        "\n",
        "bacon\n",
        "\n",
        "# bacon.append(99) will add the value of 99 in the list at last index permanently ."
      ],
      "metadata": {
        "colab": {
          "base_uri": "https://localhost:8080/"
        },
        "id": "LBiIBTbJPYpj",
        "outputId": "03b07bd5-d358-4fdf-bd42-a7b1b2833b1b"
      },
      "execution_count": null,
      "outputs": [
        {
          "output_type": "execute_result",
          "data": {
            "text/plain": [
              "[3.14, 'cat', 11, 'cat', True, 99]"
            ]
          },
          "metadata": {},
          "execution_count": 41
        }
      ]
    },
    {
      "cell_type": "code",
      "source": [
        "# Ans no 8:-\n",
        "bacon.remove('cat')\n",
        "\n",
        "bacon\n",
        "\n",
        "# bacon.remove('cat) will remove the 1st index 'cat' permanently from the list."
      ],
      "metadata": {
        "colab": {
          "base_uri": "https://localhost:8080/"
        },
        "id": "wN_FQQV_TIZE",
        "outputId": "c66151ad-ba55-4d72-b9a6-33796d6faedf"
      },
      "execution_count": null,
      "outputs": [
        {
          "output_type": "execute_result",
          "data": {
            "text/plain": [
              "[3.14, 11, 'cat', True, 99]"
            ]
          },
          "metadata": {},
          "execution_count": 42
        }
      ]
    },
    {
      "cell_type": "code",
      "source": [
        "# Ans no 9:- The operator for list concatenation is +, while the operator for replication is *. (This is the same as for strings.)"
      ],
      "metadata": {
        "id": "jLuuHjKTT2kt"
      },
      "execution_count": null,
      "outputs": []
    },
    {
      "cell_type": "code",
      "source": [
        "# Ans no 10:- While append() will add values only to the end of a list, insert() can add them anywhere in the list."
      ],
      "metadata": {
        "id": "wDQTaE7cb8Do"
      },
      "execution_count": null,
      "outputs": []
    },
    {
      "cell_type": "code",
      "source": [
        "# Ans no 11:- the two methods for removing items from a list are remove() and pop(). The remove() method removes an item based on its value,\n",
        "#             while the pop() method removes an item based on its index."
      ],
      "metadata": {
        "id": "voPC67Clclrp"
      },
      "execution_count": null,
      "outputs": []
    },
    {
      "cell_type": "code",
      "source": [
        "# Ans no 12:- Both lists and strings can be passed to len(), have indexes and slices, be used in for loops, be concatenated or replicated, and be used\n",
        "#             with the in and not in operators."
      ],
      "metadata": {
        "id": "DGMkODXwdkSR"
      },
      "execution_count": null,
      "outputs": []
    },
    {
      "cell_type": "code",
      "source": [
        "#Ans no 13 :- Lists are mutable; they can have values added, removed, or changed. Tuples are immutable; they cannot be changed at all.\n",
        "#             Also, tuples are written using parentheses, ( and ), while lists use the square brackets, [ and ]."
      ],
      "metadata": {
        "id": "gOXDa62jg_24"
      },
      "execution_count": null,
      "outputs": []
    },
    {
      "cell_type": "code",
      "source": [
        "# Ans no 14:-\n",
        "A =(42,)\n",
        "\n",
        "# by this way we can write tuple that contain only integer 42 with coma .coma defrentiate the tuples from parenthesis."
      ],
      "metadata": {
        "id": "19lmnwvph0Ju"
      },
      "execution_count": null,
      "outputs": []
    },
    {
      "cell_type": "code",
      "source": [
        "# Ans no 15:- To get a list value's tuple form, we can use the 'tuple()' function, which takes an iterable (such as a list) and converts it into a tuple.\n",
        "\n",
        "#              To get a tuple value's list form, we can use the 'list()' function, which takes an iterable (such as a tuple) and converts it into a list."
      ],
      "metadata": {
        "id": "_ugaReari00l"
      },
      "execution_count": null,
      "outputs": []
    },
    {
      "cell_type": "code",
      "source": [
        " # Ans no 16:-  variables that \"contain\" list values store references or pointers to the actual list objects in memory rather than containing\n",
        " #              the list data directly.\n",
        " #               ex-list1 = [1, 2, 3]\n",
        " #                  list2 = list1"
      ],
      "metadata": {
        "id": "IB8LBmJ06NVH"
      },
      "execution_count": null,
      "outputs": []
    },
    {
      "cell_type": "code",
      "source": [
        "# Ans no 17:-The copy.copy() function will do a shallow copy of a list, while the copy.deepcopy() function will do a deep copy of a list. That is, only\n",
        "#            copy.deepcopy() will duplicate any lists inside the list.\n",
        "#            copy.deepcopy() creates a deep copy with completely independent copies of nested objects."
      ],
      "metadata": {
        "id": "yaQyPn488CSv"
      },
      "execution_count": null,
      "outputs": []
    },
    {
      "cell_type": "code",
      "source": [],
      "metadata": {
        "id": "pk2Pv4d58yIE"
      },
      "execution_count": null,
      "outputs": []
    }
  ]
}